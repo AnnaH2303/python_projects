{
 "cells": [
  {
   "cell_type": "markdown",
   "id": "5370f21d",
   "metadata": {
    "ExecuteTime": {
     "end_time": "2022-12-18T08:04:15.713512Z",
     "start_time": "2022-12-18T08:04:15.663451Z"
    }
   },
   "source": [
    "# Вітаю на фінальному проєкті!\n",
    "Протягом курсу ми навчились завантажувати дані в Python, трансформувати їх, чистити, агрегувати, знаходити з допомогою даних відповіді на наші питання. \n",
    "Задача фінального проєкту - продемонструвати той рівень роботи з даними, на якому ви є зараз. \n",
    "\n",
    "Цей ноутбук буде присвячений аналізу даних з файла `Grocery DataBase.xlsx`, який є в папці `Дані` на Диску. Так, це Excel файл, але ми можемо дуже просто завантажувати дані з нього у Python. Покажу пару команд для роботи з Excel файлом."
   ]
  },
  {
   "cell_type": "markdown",
   "id": "ab4e745e",
   "metadata": {},
   "source": [
    "Для початку встановимо бібліотеку, яка потрібна для роботи з Excel файлами з pandas. Можна встановити тут, або в терміналі, але якщо Ви встановлюєте в терміналі, то після того треба перезапустити ядро (Kernel) ноутбуку, аби бібліотека точно підтягнулась. Іноді підтягується і без того, але це на випадок, що робити, якщо компілятор каже, що її не бачить."
   ]
  },
  {
   "cell_type": "code",
   "execution_count": 1,
   "id": "9f8741e0",
   "metadata": {
    "ExecuteTime": {
     "end_time": "2023-04-09T20:41:53.345043Z",
     "start_time": "2023-04-09T20:41:51.748546Z"
    }
   },
   "outputs": [],
   "source": [
    "import pandas as pd\n",
    "import matplotlib.pyplot as plt\n",
    "import seaborn as sns\n",
    "%matplotlib inline"
   ]
  },
  {
   "cell_type": "markdown",
   "id": "ee6256e0",
   "metadata": {},
   "source": [
    "Ось так можемо переглянути, які є листки в Excel файлі:"
   ]
  },
  {
   "cell_type": "code",
   "execution_count": 2,
   "id": "2b13dd59",
   "metadata": {
    "ExecuteTime": {
     "end_time": "2023-04-09T20:41:55.922934Z",
     "start_time": "2023-04-09T20:41:55.906922Z"
    }
   },
   "outputs": [],
   "source": [
    "path_to_file = 'data/Grocery Database.xlsx'"
   ]
  },
  {
   "cell_type": "code",
   "execution_count": 3,
   "id": "54c01751",
   "metadata": {
    "ExecuteTime": {
     "end_time": "2023-04-09T20:42:11.790007Z",
     "start_time": "2023-04-09T20:42:01.079670Z"
    },
    "scrolled": true
   },
   "outputs": [
    {
     "data": {
      "text/plain": [
       "['Grosto DB', 'Sheet2', 'Fact Summary']"
      ]
     },
     "execution_count": 3,
     "metadata": {},
     "output_type": "execute_result"
    }
   ],
   "source": [
    "xl = pd.ExcelFile(path_to_file)\n",
    "xl.sheet_names"
   ]
  },
  {
   "cell_type": "markdown",
   "id": "1ea6884d",
   "metadata": {},
   "source": [
    "А так можемо зчитати конкретний листок:"
   ]
  },
  {
   "cell_type": "code",
   "execution_count": 4,
   "id": "1341eb0b",
   "metadata": {
    "ExecuteTime": {
     "end_time": "2023-04-09T20:42:13.217539Z",
     "start_time": "2023-04-09T20:42:13.173622Z"
    }
   },
   "outputs": [
    {
     "data": {
      "text/html": [
       "<div>\n",
       "<style scoped>\n",
       "    .dataframe tbody tr th:only-of-type {\n",
       "        vertical-align: middle;\n",
       "    }\n",
       "\n",
       "    .dataframe tbody tr th {\n",
       "        vertical-align: top;\n",
       "    }\n",
       "\n",
       "    .dataframe thead th {\n",
       "        text-align: right;\n",
       "    }\n",
       "</style>\n",
       "<table border=\"1\" class=\"dataframe\">\n",
       "  <thead>\n",
       "    <tr style=\"text-align: right;\">\n",
       "      <th></th>\n",
       "      <th>S.No.</th>\n",
       "      <th>Column Name</th>\n",
       "      <th>Description of the Column names</th>\n",
       "    </tr>\n",
       "  </thead>\n",
       "  <tbody>\n",
       "    <tr>\n",
       "      <th>0</th>\n",
       "      <td>1.0</td>\n",
       "      <td>Receipt Number</td>\n",
       "      <td>Transaction Number</td>\n",
       "    </tr>\n",
       "    <tr>\n",
       "      <th>1</th>\n",
       "      <td>2.0</td>\n",
       "      <td>Date</td>\n",
       "      <td>Date of Transaction</td>\n",
       "    </tr>\n",
       "    <tr>\n",
       "      <th>2</th>\n",
       "      <td>3.0</td>\n",
       "      <td>Year</td>\n",
       "      <td>Year of Transaction</td>\n",
       "    </tr>\n",
       "    <tr>\n",
       "      <th>3</th>\n",
       "      <td>4.0</td>\n",
       "      <td>Month</td>\n",
       "      <td>Month of Transaction</td>\n",
       "    </tr>\n",
       "    <tr>\n",
       "      <th>4</th>\n",
       "      <td>5.0</td>\n",
       "      <td>Time</td>\n",
       "      <td>Time of the transaction</td>\n",
       "    </tr>\n",
       "    <tr>\n",
       "      <th>5</th>\n",
       "      <td>6.0</td>\n",
       "      <td>Mobile Number</td>\n",
       "      <td>Monbile number of the customer</td>\n",
       "    </tr>\n",
       "    <tr>\n",
       "      <th>6</th>\n",
       "      <td>7.0</td>\n",
       "      <td>Membership ID</td>\n",
       "      <td>Unique Membership ID of the Customer</td>\n",
       "    </tr>\n",
       "    <tr>\n",
       "      <th>7</th>\n",
       "      <td>8.0</td>\n",
       "      <td>Loyalty Card Points</td>\n",
       "      <td>Loyalty Points earned by customer (10 Points/1...</td>\n",
       "    </tr>\n",
       "    <tr>\n",
       "      <th>8</th>\n",
       "      <td>9.0</td>\n",
       "      <td>Age</td>\n",
       "      <td>Age of the Customer in the Company Database</td>\n",
       "    </tr>\n",
       "    <tr>\n",
       "      <th>9</th>\n",
       "      <td>10.0</td>\n",
       "      <td>Gender</td>\n",
       "      <td>Gender of the customer</td>\n",
       "    </tr>\n",
       "    <tr>\n",
       "      <th>10</th>\n",
       "      <td>11.0</td>\n",
       "      <td>City</td>\n",
       "      <td>City Name of store</td>\n",
       "    </tr>\n",
       "    <tr>\n",
       "      <th>11</th>\n",
       "      <td>12.0</td>\n",
       "      <td>Country</td>\n",
       "      <td>Country Name of store</td>\n",
       "    </tr>\n",
       "    <tr>\n",
       "      <th>12</th>\n",
       "      <td>13.0</td>\n",
       "      <td>Category</td>\n",
       "      <td>Category of Item bought by customer</td>\n",
       "    </tr>\n",
       "    <tr>\n",
       "      <th>13</th>\n",
       "      <td>14.0</td>\n",
       "      <td>Sub_Category</td>\n",
       "      <td>Sub-Category of Item bought by customer</td>\n",
       "    </tr>\n",
       "    <tr>\n",
       "      <th>14</th>\n",
       "      <td>15.0</td>\n",
       "      <td>Items</td>\n",
       "      <td>Name if the item  bought by customer</td>\n",
       "    </tr>\n",
       "    <tr>\n",
       "      <th>15</th>\n",
       "      <td>16.0</td>\n",
       "      <td>Brand</td>\n",
       "      <td>Brand of the Item bought</td>\n",
       "    </tr>\n",
       "    <tr>\n",
       "      <th>16</th>\n",
       "      <td>17.0</td>\n",
       "      <td>Description</td>\n",
       "      <td>Description of the Item (weight/volume/pack si...</td>\n",
       "    </tr>\n",
       "    <tr>\n",
       "      <th>17</th>\n",
       "      <td>18.0</td>\n",
       "      <td>Price</td>\n",
       "      <td>Price per unit of the Item</td>\n",
       "    </tr>\n",
       "    <tr>\n",
       "      <th>18</th>\n",
       "      <td>19.0</td>\n",
       "      <td>QTY</td>\n",
       "      <td>Quantity bought by the cistomer</td>\n",
       "    </tr>\n",
       "    <tr>\n",
       "      <th>19</th>\n",
       "      <td>20.0</td>\n",
       "      <td>DISC</td>\n",
       "      <td>Discount offered by store</td>\n",
       "    </tr>\n",
       "    <tr>\n",
       "      <th>20</th>\n",
       "      <td>21.0</td>\n",
       "      <td>Net Bill Amount</td>\n",
       "      <td>Amount exclusive of tax payable to customer</td>\n",
       "    </tr>\n",
       "    <tr>\n",
       "      <th>21</th>\n",
       "      <td>22.0</td>\n",
       "      <td>GST</td>\n",
       "      <td>Tax Payable</td>\n",
       "    </tr>\n",
       "    <tr>\n",
       "      <th>22</th>\n",
       "      <td>23.0</td>\n",
       "      <td>Gross Bill Amount</td>\n",
       "      <td>Gross Bill to be paid by customer inclusive of...</td>\n",
       "    </tr>\n",
       "    <tr>\n",
       "      <th>23</th>\n",
       "      <td>24.0</td>\n",
       "      <td>Payment Mode</td>\n",
       "      <td>Mode of payment opted by customer</td>\n",
       "    </tr>\n",
       "    <tr>\n",
       "      <th>24</th>\n",
       "      <td>25.0</td>\n",
       "      <td>Bank Name</td>\n",
       "      <td>Name of the Bank</td>\n",
       "    </tr>\n",
       "    <tr>\n",
       "      <th>25</th>\n",
       "      <td>26.0</td>\n",
       "      <td>% Profit Margin</td>\n",
       "      <td>Percentage profit margin of store</td>\n",
       "    </tr>\n",
       "    <tr>\n",
       "      <th>26</th>\n",
       "      <td>27.0</td>\n",
       "      <td>% Operating Cost</td>\n",
       "      <td>Percentage operating cost of store</td>\n",
       "    </tr>\n",
       "    <tr>\n",
       "      <th>27</th>\n",
       "      <td>28.0</td>\n",
       "      <td>% Product Cost</td>\n",
       "      <td>Percentage product cost to store</td>\n",
       "    </tr>\n",
       "    <tr>\n",
       "      <th>28</th>\n",
       "      <td>29.0</td>\n",
       "      <td>Profit Margin</td>\n",
       "      <td>Profit Margin earned by store</td>\n",
       "    </tr>\n",
       "    <tr>\n",
       "      <th>29</th>\n",
       "      <td>30.0</td>\n",
       "      <td>Operating Cost</td>\n",
       "      <td>Operating cost beared by the store</td>\n",
       "    </tr>\n",
       "    <tr>\n",
       "      <th>30</th>\n",
       "      <td>31.0</td>\n",
       "      <td>Product Cost</td>\n",
       "      <td>Product Cost for the store</td>\n",
       "    </tr>\n",
       "  </tbody>\n",
       "</table>\n",
       "</div>"
      ],
      "text/plain": [
       "    S.No.          Column Name  \\\n",
       "0     1.0       Receipt Number   \n",
       "1     2.0                 Date   \n",
       "2     3.0                 Year   \n",
       "3     4.0                Month   \n",
       "4     5.0                 Time   \n",
       "5     6.0        Mobile Number   \n",
       "6     7.0        Membership ID   \n",
       "7     8.0  Loyalty Card Points   \n",
       "8     9.0                  Age   \n",
       "9    10.0               Gender   \n",
       "10   11.0                 City   \n",
       "11   12.0              Country   \n",
       "12   13.0             Category   \n",
       "13   14.0         Sub_Category   \n",
       "14   15.0                Items   \n",
       "15   16.0               Brand    \n",
       "16   17.0         Description    \n",
       "17   18.0                Price   \n",
       "18   19.0                  QTY   \n",
       "19   20.0                 DISC   \n",
       "20   21.0      Net Bill Amount   \n",
       "21   22.0                  GST   \n",
       "22   23.0    Gross Bill Amount   \n",
       "23   24.0         Payment Mode   \n",
       "24   25.0            Bank Name   \n",
       "25   26.0      % Profit Margin   \n",
       "26   27.0     % Operating Cost   \n",
       "27   28.0       % Product Cost   \n",
       "28   29.0        Profit Margin   \n",
       "29   30.0       Operating Cost   \n",
       "30   31.0         Product Cost   \n",
       "\n",
       "                      Description of the Column names  \n",
       "0                                  Transaction Number  \n",
       "1                                 Date of Transaction  \n",
       "2                                 Year of Transaction  \n",
       "3                                Month of Transaction  \n",
       "4                             Time of the transaction  \n",
       "5                      Monbile number of the customer  \n",
       "6                Unique Membership ID of the Customer  \n",
       "7   Loyalty Points earned by customer (10 Points/1...  \n",
       "8         Age of the Customer in the Company Database  \n",
       "9                              Gender of the customer  \n",
       "10                                 City Name of store  \n",
       "11                              Country Name of store  \n",
       "12                Category of Item bought by customer  \n",
       "13            Sub-Category of Item bought by customer  \n",
       "14               Name if the item  bought by customer  \n",
       "15                           Brand of the Item bought  \n",
       "16  Description of the Item (weight/volume/pack si...  \n",
       "17                         Price per unit of the Item  \n",
       "18                    Quantity bought by the cistomer  \n",
       "19                          Discount offered by store  \n",
       "20        Amount exclusive of tax payable to customer  \n",
       "21                                        Tax Payable  \n",
       "22  Gross Bill to be paid by customer inclusive of...  \n",
       "23                  Mode of payment opted by customer  \n",
       "24                                   Name of the Bank  \n",
       "25                  Percentage profit margin of store  \n",
       "26                 Percentage operating cost of store  \n",
       "27                   Percentage product cost to store  \n",
       "28                      Profit Margin earned by store  \n",
       "29                 Operating cost beared by the store  \n",
       "30                         Product Cost for the store  "
      ]
     },
     "execution_count": 4,
     "metadata": {},
     "output_type": "execute_result"
    }
   ],
   "source": [
    "xl.parse('Fact Summary')"
   ]
  },
  {
   "cell_type": "markdown",
   "id": "44fe8a1e",
   "metadata": {},
   "source": [
    "Читати дані можна і з Pandas, але тут немає можливості переглянути наявні листки, а також довше відбувається читання даних."
   ]
  },
  {
   "cell_type": "code",
   "execution_count": 5,
   "id": "2fb8f4ad",
   "metadata": {
    "ExecuteTime": {
     "end_time": "2023-04-09T20:42:48.651847Z",
     "start_time": "2023-04-09T20:42:17.819213Z"
    }
   },
   "outputs": [],
   "source": [
    "df = pd.read_excel(path_to_file)"
   ]
  },
  {
   "cell_type": "markdown",
   "id": "93fbe209",
   "metadata": {},
   "source": [
    "В файлі ви знайдете самі дані та опис колонок.   \n",
    "\n",
    "**Задача**: Уявіть, що Вам дали цей набір даних з питанням \"Що корисного ми можемо з них взяти для розвитку нашого бізнесу?\". То Вам необхідно розказати бізнесу історію про ці дані у форматі\n",
    "1. питання, яке Вас як робітника цього бізнесу, який дуже вболіває за його успіх, цікавить щодо цих даних\n",
    "2. код для відповіді на це питання\n",
    "3. висновки, які я можу зробити з огляду на результат виконання коду: які рішення ми можемо прийняти щодо подальших кроків в аналізі або які рекомендації Ви б дали бізнесу виходячи з результатів.\n",
    "\n",
    "**Необхідно** поставити до даних _мінімум_ 10 бізнес-питань, при цьому зробивши   \n",
    "- початковий аналіз даних: їх розмір, структура, наявність пропущених значень та що з ними зробити, зміна типів даних там, де це доречно зробити (наприклад, якщо колонка завантажилась як тип string, а з опису видно, що там має бути float) - ця частина не входить у бізнес-питання, але є необхідною при аналізі даних.  \n",
    "- _мінімум_ 1 зведену таблицю або її аналог\n",
    "- _мінімум_ 5 візуалізацій, 3 з яких мають різний тип (наприклад, scatter plot, line plot, pair plot)\n",
    "\n",
    "В даному мінімум-наборі немає вимоги на використання SQL та тестування статистичних гіпотез. Але якщо Вам хочеться потренуватись, то Ви можете це зробити скориставшись pandasql, а також перевірити, чи є відмінність між двома групами у якомусь показнику з допомогою тестування статистичних гіпотез. Останнє найбільш доречно, якщо, наприклад, ми беремо чоловіків і жінок, бачимо що у них доволі схожі середні чеки, але наче відрізняються. Аби зрозуміти, чи різниця статистично значущою, можна це перевірити з допомогою тестування стат. гіпотез.\n",
    "\n",
    "Питанням може бути як \"Яка є кількість унікальних чеків в цьому наборі даних?\" так і щось значно складніше. Якщо у Вас складне питання, і аби відповісти на нього Ви мали відповісти на 3 менших питання (зробити якісь трансформації над даними, подивитись щось), то це рахується як 3 питання з 10 необхідних у завданні. Звісно ж Ви можете зробити більше за встановлений мінімум - все буде перевірено :)\n",
    "\n",
    "Тут є великий простір для Вашої фантазії. **Тому рекомендація:** виділіть на це завданні певну кількість годин (наприклад, середнє значення по тому, скільки у Вас займало виконання домашніх завдань в курсі, але я рекомендую не менше 2х годин роботи)\n",
    "і поставте собі за ціль всю роботу вмістити в цю кількість годин.\n",
    "Це дозволить Вам управляти своїм часом, пріоритизувати питання, які ставите до даних. І так часто є в роботі: коли ми не знаємо, що ми шукаємо, ми ставимо обмеження по часу (задача типу spike) і робимо все, що встигнемо, за цей час.\n",
    "\n",
    "По закінченню - завантажуємо ноутбук на git і додаємо посилання в здачу роботи в Eduflow. \n",
    "До речі, з часом, вам може захотітись доповнити цей ноутбук, коли арсенал ваших навичок по роботі з даними розшириться. І це буде чудова ідея!\n",
    "\n",
    "**Успіхів!**"
   ]
  },
  {
   "cell_type": "markdown",
   "id": "46a16b4b",
   "metadata": {},
   "source": [
    "# Огляд, очистка і обробка даних"
   ]
  },
  {
   "cell_type": "markdown",
   "id": "4d268b7d",
   "metadata": {},
   "source": [
    "1. Оцінимо загальний вигляд даних. Визначимо їх тип. І розмір."
   ]
  },
  {
   "cell_type": "code",
   "execution_count": 6,
   "id": "2dced150",
   "metadata": {
    "ExecuteTime": {
     "end_time": "2023-04-09T20:42:53.110019Z",
     "start_time": "2023-04-09T20:42:53.074894Z"
    },
    "scrolled": false
   },
   "outputs": [
    {
     "data": {
      "text/html": [
       "<div>\n",
       "<style scoped>\n",
       "    .dataframe tbody tr th:only-of-type {\n",
       "        vertical-align: middle;\n",
       "    }\n",
       "\n",
       "    .dataframe tbody tr th {\n",
       "        vertical-align: top;\n",
       "    }\n",
       "\n",
       "    .dataframe thead th {\n",
       "        text-align: right;\n",
       "    }\n",
       "</style>\n",
       "<table border=\"1\" class=\"dataframe\">\n",
       "  <thead>\n",
       "    <tr style=\"text-align: right;\">\n",
       "      <th></th>\n",
       "      <th>Receipt Number</th>\n",
       "      <th>Date</th>\n",
       "      <th>Year</th>\n",
       "      <th>Month</th>\n",
       "      <th>Time</th>\n",
       "      <th>Mobile Number</th>\n",
       "      <th>Membership ID</th>\n",
       "      <th>Loyalty Card Points</th>\n",
       "      <th>Age</th>\n",
       "      <th>Gender</th>\n",
       "      <th>City</th>\n",
       "      <th>Country</th>\n",
       "      <th>Category</th>\n",
       "      <th>Sub_Category</th>\n",
       "      <th>Items</th>\n",
       "      <th>Brand</th>\n",
       "      <th>Description</th>\n",
       "      <th>Price</th>\n",
       "      <th>QTY</th>\n",
       "      <th>DISC</th>\n",
       "      <th>Amount</th>\n",
       "      <th>Net Bill Amount</th>\n",
       "      <th>GST</th>\n",
       "      <th>Gross Bill Amount</th>\n",
       "      <th>Payment Mode</th>\n",
       "      <th>Bank Name</th>\n",
       "      <th>% Profit Margin</th>\n",
       "      <th>% Operating Cost</th>\n",
       "      <th>% Product Cost</th>\n",
       "      <th>Profit Margin</th>\n",
       "      <th>Operating Cost</th>\n",
       "      <th>Product Cost</th>\n",
       "    </tr>\n",
       "  </thead>\n",
       "  <tbody>\n",
       "    <tr>\n",
       "      <th>0</th>\n",
       "      <td>GIJ00001</td>\n",
       "      <td>2016-01-02</td>\n",
       "      <td>2016.0</td>\n",
       "      <td>1.0</td>\n",
       "      <td>10:08:03.260000</td>\n",
       "      <td>9.793549e+09</td>\n",
       "      <td>MIDID0001</td>\n",
       "      <td>1.0</td>\n",
       "      <td>36.0</td>\n",
       "      <td>Male</td>\n",
       "      <td>Jakarta</td>\n",
       "      <td>Indonesia</td>\n",
       "      <td>Choco, Snacks, Sweets</td>\n",
       "      <td>Biscuits &amp; Crackers</td>\n",
       "      <td>Oreo mini oreo sharepack</td>\n",
       "      <td>Oreo</td>\n",
       "      <td>540 g</td>\n",
       "      <td>3.09</td>\n",
       "      <td>4.0</td>\n",
       "      <td>0.02</td>\n",
       "      <td>12.1128</td>\n",
       "      <td>12.1128</td>\n",
       "      <td>0.1</td>\n",
       "      <td>13.32408</td>\n",
       "      <td>Card</td>\n",
       "      <td>Enterprise Bank</td>\n",
       "      <td>0.150</td>\n",
       "      <td>0.15</td>\n",
       "      <td>0.700</td>\n",
       "      <td>1.85400</td>\n",
       "      <td>1.8540</td>\n",
       "      <td>8.65200</td>\n",
       "    </tr>\n",
       "    <tr>\n",
       "      <th>1</th>\n",
       "      <td>GIJ00002</td>\n",
       "      <td>2016-01-02</td>\n",
       "      <td>2016.0</td>\n",
       "      <td>1.0</td>\n",
       "      <td>15:46:50.832000</td>\n",
       "      <td>9.938441e+09</td>\n",
       "      <td>MIDID0002</td>\n",
       "      <td>2.0</td>\n",
       "      <td>54.0</td>\n",
       "      <td>Male</td>\n",
       "      <td>Jakarta</td>\n",
       "      <td>Indonesia</td>\n",
       "      <td>Wines, Beers &amp; Spirits</td>\n",
       "      <td>Beer</td>\n",
       "      <td>Ashai Lager Beer</td>\n",
       "      <td>Ashai</td>\n",
       "      <td>480 ml</td>\n",
       "      <td>11.60</td>\n",
       "      <td>2.0</td>\n",
       "      <td>0.01</td>\n",
       "      <td>22.9680</td>\n",
       "      <td>22.9680</td>\n",
       "      <td>0.1</td>\n",
       "      <td>25.26480</td>\n",
       "      <td>Card</td>\n",
       "      <td>Philippine Veterans Bank</td>\n",
       "      <td>0.118</td>\n",
       "      <td>0.15</td>\n",
       "      <td>0.732</td>\n",
       "      <td>2.73760</td>\n",
       "      <td>3.4800</td>\n",
       "      <td>16.98240</td>\n",
       "    </tr>\n",
       "    <tr>\n",
       "      <th>2</th>\n",
       "      <td>GIJ00003</td>\n",
       "      <td>2016-01-02</td>\n",
       "      <td>2016.0</td>\n",
       "      <td>1.0</td>\n",
       "      <td>11:28:52.166000</td>\n",
       "      <td>9.976743e+09</td>\n",
       "      <td>MIDID0003</td>\n",
       "      <td>1.0</td>\n",
       "      <td>16.0</td>\n",
       "      <td>Female</td>\n",
       "      <td>Jakarta</td>\n",
       "      <td>Indonesia</td>\n",
       "      <td>Fruit &amp; Vegetable</td>\n",
       "      <td>Frozen Fruits</td>\n",
       "      <td>Cascadian farm organic strawberries</td>\n",
       "      <td>Cascadiam Farm</td>\n",
       "      <td>1 Kg</td>\n",
       "      <td>13.31</td>\n",
       "      <td>1.0</td>\n",
       "      <td>0.01</td>\n",
       "      <td>13.1769</td>\n",
       "      <td>38.3526</td>\n",
       "      <td>0.1</td>\n",
       "      <td>42.18786</td>\n",
       "      <td>Cash</td>\n",
       "      <td>BDO Unibank</td>\n",
       "      <td>0.147</td>\n",
       "      <td>0.15</td>\n",
       "      <td>0.703</td>\n",
       "      <td>1.95657</td>\n",
       "      <td>1.9965</td>\n",
       "      <td>9.35693</td>\n",
       "    </tr>\n",
       "    <tr>\n",
       "      <th>3</th>\n",
       "      <td>GIJ00003</td>\n",
       "      <td>2016-01-02</td>\n",
       "      <td>2016.0</td>\n",
       "      <td>1.0</td>\n",
       "      <td>11:28:52.166000</td>\n",
       "      <td>9.976743e+09</td>\n",
       "      <td>MIDID0003</td>\n",
       "      <td>1.0</td>\n",
       "      <td>16.0</td>\n",
       "      <td>Female</td>\n",
       "      <td>Jakarta</td>\n",
       "      <td>Indonesia</td>\n",
       "      <td>Fruit &amp; Vegetable</td>\n",
       "      <td>Fresh Vegetables</td>\n",
       "      <td>Oraganic 4 Life Red onions</td>\n",
       "      <td>Organic 4 Life</td>\n",
       "      <td>270 g</td>\n",
       "      <td>3.52</td>\n",
       "      <td>1.0</td>\n",
       "      <td>0.01</td>\n",
       "      <td>3.4848</td>\n",
       "      <td>38.3526</td>\n",
       "      <td>0.1</td>\n",
       "      <td>42.18786</td>\n",
       "      <td>Cash</td>\n",
       "      <td>BDO Unibank</td>\n",
       "      <td>0.095</td>\n",
       "      <td>0.15</td>\n",
       "      <td>0.755</td>\n",
       "      <td>0.33440</td>\n",
       "      <td>0.5280</td>\n",
       "      <td>2.65760</td>\n",
       "    </tr>\n",
       "    <tr>\n",
       "      <th>4</th>\n",
       "      <td>GIJ00003</td>\n",
       "      <td>2016-01-02</td>\n",
       "      <td>2016.0</td>\n",
       "      <td>1.0</td>\n",
       "      <td>11:28:52.166000</td>\n",
       "      <td>9.976743e+09</td>\n",
       "      <td>MIDID0003</td>\n",
       "      <td>2.0</td>\n",
       "      <td>16.0</td>\n",
       "      <td>Female</td>\n",
       "      <td>Jakarta</td>\n",
       "      <td>Indonesia</td>\n",
       "      <td>Fruit &amp; Vegetable</td>\n",
       "      <td>Lettuce &amp; Salads</td>\n",
       "      <td>LIVEWELL Italian mesclun salad</td>\n",
       "      <td>LIVEWELL</td>\n",
       "      <td>570 g</td>\n",
       "      <td>4.41</td>\n",
       "      <td>1.0</td>\n",
       "      <td>0.01</td>\n",
       "      <td>4.3659</td>\n",
       "      <td>38.3526</td>\n",
       "      <td>0.1</td>\n",
       "      <td>42.18786</td>\n",
       "      <td>Cash</td>\n",
       "      <td>BDO Unibank</td>\n",
       "      <td>0.120</td>\n",
       "      <td>0.15</td>\n",
       "      <td>0.730</td>\n",
       "      <td>0.52920</td>\n",
       "      <td>0.6615</td>\n",
       "      <td>3.21930</td>\n",
       "    </tr>\n",
       "  </tbody>\n",
       "</table>\n",
       "</div>"
      ],
      "text/plain": [
       "  Receipt Number       Date    Year  Month             Time  Mobile Number  \\\n",
       "0       GIJ00001 2016-01-02  2016.0    1.0  10:08:03.260000   9.793549e+09   \n",
       "1       GIJ00002 2016-01-02  2016.0    1.0  15:46:50.832000   9.938441e+09   \n",
       "2       GIJ00003 2016-01-02  2016.0    1.0  11:28:52.166000   9.976743e+09   \n",
       "3       GIJ00003 2016-01-02  2016.0    1.0  11:28:52.166000   9.976743e+09   \n",
       "4       GIJ00003 2016-01-02  2016.0    1.0  11:28:52.166000   9.976743e+09   \n",
       "\n",
       "  Membership ID  Loyalty Card Points   Age  Gender     City    Country  \\\n",
       "0     MIDID0001                  1.0  36.0    Male  Jakarta  Indonesia   \n",
       "1     MIDID0002                  2.0  54.0    Male  Jakarta  Indonesia   \n",
       "2     MIDID0003                  1.0  16.0  Female  Jakarta  Indonesia   \n",
       "3     MIDID0003                  1.0  16.0  Female  Jakarta  Indonesia   \n",
       "4     MIDID0003                  2.0  16.0  Female  Jakarta  Indonesia   \n",
       "\n",
       "                 Category         Sub_Category  \\\n",
       "0   Choco, Snacks, Sweets  Biscuits & Crackers   \n",
       "1  Wines, Beers & Spirits                 Beer   \n",
       "2       Fruit & Vegetable        Frozen Fruits   \n",
       "3       Fruit & Vegetable     Fresh Vegetables   \n",
       "4       Fruit & Vegetable     Lettuce & Salads   \n",
       "\n",
       "                                 Items          Brand  Description   Price  \\\n",
       "0             Oreo mini oreo sharepack            Oreo        540 g   3.09   \n",
       "1                     Ashai Lager Beer           Ashai       480 ml  11.60   \n",
       "2  Cascadian farm organic strawberries  Cascadiam Farm         1 Kg  13.31   \n",
       "3           Oraganic 4 Life Red onions  Organic 4 Life        270 g   3.52   \n",
       "4       LIVEWELL Italian mesclun salad        LIVEWELL        570 g   4.41   \n",
       "\n",
       "   QTY  DISC   Amount  Net Bill Amount  GST  Gross Bill Amount Payment Mode  \\\n",
       "0  4.0  0.02  12.1128          12.1128  0.1           13.32408         Card   \n",
       "1  2.0  0.01  22.9680          22.9680  0.1           25.26480         Card   \n",
       "2  1.0  0.01  13.1769          38.3526  0.1           42.18786         Cash   \n",
       "3  1.0  0.01   3.4848          38.3526  0.1           42.18786         Cash   \n",
       "4  1.0  0.01   4.3659          38.3526  0.1           42.18786         Cash   \n",
       "\n",
       "                  Bank Name  % Profit Margin  % Operating Cost  \\\n",
       "0           Enterprise Bank            0.150              0.15   \n",
       "1  Philippine Veterans Bank            0.118              0.15   \n",
       "2               BDO Unibank            0.147              0.15   \n",
       "3               BDO Unibank            0.095              0.15   \n",
       "4               BDO Unibank            0.120              0.15   \n",
       "\n",
       "   % Product Cost  Profit Margin  Operating Cost  Product Cost  \n",
       "0           0.700        1.85400          1.8540       8.65200  \n",
       "1           0.732        2.73760          3.4800      16.98240  \n",
       "2           0.703        1.95657          1.9965       9.35693  \n",
       "3           0.755        0.33440          0.5280       2.65760  \n",
       "4           0.730        0.52920          0.6615       3.21930  "
      ]
     },
     "execution_count": 6,
     "metadata": {},
     "output_type": "execute_result"
    }
   ],
   "source": [
    "pd.set_option('max_columns', None) # хочемо побачити всі стовпці, навіть якщо їх більше 20-ти\n",
    "df.head()"
   ]
  },
  {
   "cell_type": "code",
   "execution_count": 7,
   "id": "b4976356",
   "metadata": {
    "ExecuteTime": {
     "end_time": "2023-04-09T20:42:56.240845Z",
     "start_time": "2023-04-09T20:42:56.222842Z"
    },
    "scrolled": false
   },
   "outputs": [
    {
     "data": {
      "text/plain": [
       "Receipt Number                 object\n",
       "Date                   datetime64[ns]\n",
       "Year                          float64\n",
       "Month                         float64\n",
       "Time                           object\n",
       "Mobile Number                 float64\n",
       "Membership ID                  object\n",
       "Loyalty Card Points           float64\n",
       "Age                           float64\n",
       "Gender                         object\n",
       "City                           object\n",
       "Country                        object\n",
       "Category                       object\n",
       "Sub_Category                   object\n",
       "Items                          object\n",
       "Brand                          object\n",
       "Description                    object\n",
       "Price                         float64\n",
       "QTY                           float64\n",
       "DISC                          float64\n",
       "Amount                        float64\n",
       "Net Bill Amount               float64\n",
       "GST                           float64\n",
       "Gross Bill Amount             float64\n",
       "Payment Mode                   object\n",
       "Bank Name                      object\n",
       "% Profit Margin               float64\n",
       "% Operating Cost              float64\n",
       "% Product Cost                float64\n",
       "Profit Margin                 float64\n",
       "Operating Cost                float64\n",
       "Product Cost                  float64\n",
       "dtype: object"
      ]
     },
     "execution_count": 7,
     "metadata": {},
     "output_type": "execute_result"
    }
   ],
   "source": [
    "df.dtypes"
   ]
  },
  {
   "cell_type": "code",
   "execution_count": 8,
   "id": "029b76c3",
   "metadata": {
    "ExecuteTime": {
     "end_time": "2023-04-09T20:43:01.181751Z",
     "start_time": "2023-04-09T20:43:01.166116Z"
    }
   },
   "outputs": [
    {
     "data": {
      "text/plain": [
       "(50447, 32)"
      ]
     },
     "execution_count": 8,
     "metadata": {},
     "output_type": "execute_result"
    }
   ],
   "source": [
    "df.shape"
   ]
  },
  {
   "cell_type": "markdown",
   "id": "c22627c3",
   "metadata": {},
   "source": [
    "2. Подивимось чи є пропущені значення. І якщо так, то скільки їх у кожному полі."
   ]
  },
  {
   "cell_type": "code",
   "execution_count": 9,
   "id": "31a2d1af",
   "metadata": {
    "ExecuteTime": {
     "end_time": "2023-04-09T20:43:03.382518Z",
     "start_time": "2023-04-09T20:43:03.340550Z"
    }
   },
   "outputs": [
    {
     "data": {
      "text/plain": [
       "Receipt Number         0\n",
       "Date                   0\n",
       "Year                   0\n",
       "Month                  0\n",
       "Time                   0\n",
       "Mobile Number          0\n",
       "Membership ID          0\n",
       "Loyalty Card Points    0\n",
       "Age                    0\n",
       "Gender                 0\n",
       "City                   0\n",
       "Country                0\n",
       "Category               0\n",
       "Sub_Category           0\n",
       "Items                  0\n",
       "Brand                  0\n",
       "Description            0\n",
       "Price                  0\n",
       "QTY                    0\n",
       "DISC                   0\n",
       "Amount                 0\n",
       "Net Bill Amount        0\n",
       "GST                    0\n",
       "Gross Bill Amount      0\n",
       "Payment Mode           0\n",
       "Bank Name              0\n",
       "% Profit Margin        0\n",
       "% Operating Cost       0\n",
       "% Product Cost         0\n",
       "Profit Margin          0\n",
       "Operating Cost         0\n",
       "Product Cost           0\n",
       "dtype: int64"
      ]
     },
     "execution_count": 9,
     "metadata": {},
     "output_type": "execute_result"
    }
   ],
   "source": [
    "df.isna().sum()"
   ]
  },
  {
   "cell_type": "markdown",
   "id": "447a2172",
   "metadata": {
    "ExecuteTime": {
     "end_time": "2023-04-05T14:49:06.304878Z",
     "start_time": "2023-04-05T14:49:06.298864Z"
    }
   },
   "source": [
    "Пропущених значень немає.\n",
    "\n",
    "3. Перевіримо на адекватність дані у полях, що стосуються розрахунку вартості і її складових (якщо будуть рядки з помилками, тоді при аналізі цих показників надалі ми такі записи зможемо просто не враховувати)."
   ]
  },
  {
   "cell_type": "markdown",
   "id": "b284ecd6",
   "metadata": {},
   "source": [
    "3.1. Перевіримо дані у полях **% Profit Margin**, **% Operating Cost**, **% Product Cost**. В сумі вони мають складати 1. "
   ]
  },
  {
   "cell_type": "code",
   "execution_count": 10,
   "id": "cb8464b3",
   "metadata": {
    "ExecuteTime": {
     "end_time": "2023-04-09T20:43:08.806290Z",
     "start_time": "2023-04-09T20:43:08.758313Z"
    }
   },
   "outputs": [
    {
     "data": {
      "text/plain": [
       "1.0    50447\n",
       "Name: Cost_and_Margin_Portion, dtype: int64"
      ]
     },
     "execution_count": 10,
     "metadata": {},
     "output_type": "execute_result"
    }
   ],
   "source": [
    "'''\n",
    "Перевірятимемо з точністю до 6-и знаків після коми.\n",
    "'''\n",
    "\n",
    "df['Cost_and_Margin_Portion'] = round(df['% Profit Margin'] + df['% Operating Cost'] + df['% Product Cost'], 6)\n",
    "df.Cost_and_Margin_Portion.value_counts()"
   ]
  },
  {
   "cell_type": "markdown",
   "id": "e032c3ea",
   "metadata": {},
   "source": [
    "Бачимо, що єдиним унікальним значенням у полі Cost_and_Margin_Portion є 1.\\\n",
    "Значить дані у совпцях % Profit Margin, % Operating Cost, % Product Cost вірні."
   ]
  },
  {
   "cell_type": "markdown",
   "id": "0190da8a",
   "metadata": {},
   "source": [
    "3.2. Перевіримо дані у полях **Profit Margin**, **Operating Cost**, **Product Cost**.\\\n",
    "Має виконуватись рівність: **(Profit Margin + Operating Cost + Product Cost) * (1- DISC) = Amount**"
   ]
  },
  {
   "cell_type": "code",
   "execution_count": 11,
   "id": "5aabd400",
   "metadata": {
    "ExecuteTime": {
     "end_time": "2023-04-09T20:43:13.026154Z",
     "start_time": "2023-04-09T20:43:12.993942Z"
    }
   },
   "outputs": [
    {
     "name": "stdout",
     "output_type": "stream",
     "text": [
      "0%\n"
     ]
    }
   ],
   "source": [
    "'''\n",
    "Перевірятимемо з точністю до 6-и знаків після коми.\n",
    "'''\n",
    "\n",
    "df['Cost_and_Margin'] = (df['Profit Margin'] + df['Operating Cost'] + df['Product Cost']) * (1 - df['DISC'])\n",
    "df['Compare_1'] = round(df['Amount'], 6) == round(df['Cost_and_Margin'], 6)\n",
    "a = len(df[df['Compare_1'] == False])\n",
    "b = len(df)\n",
    "print(f\"{a/b:.0%}\")"
   ]
  },
  {
   "cell_type": "markdown",
   "id": "b640c55f",
   "metadata": {},
   "source": [
    "Оскільки відсоток записів, в яких рівність не виконується, дорінює 0, робимо висновок, що всі дані у полях Profit Margin, Operating Cost, Product Cost представлені вірно."
   ]
  },
  {
   "cell_type": "markdown",
   "id": "da89c91b",
   "metadata": {},
   "source": [
    "3.3. Перевіримо дані у полі Amount - вартість кожної покупки у чеку з урахуванням знижки (до податку).\\\n",
    "Має викоуватись рівність: **Price * QTY * (1 - DISC) = Amount**"
   ]
  },
  {
   "cell_type": "code",
   "execution_count": 12,
   "id": "f173b92e",
   "metadata": {
    "ExecuteTime": {
     "end_time": "2023-04-09T20:43:16.272228Z",
     "start_time": "2023-04-09T20:43:16.256425Z"
    }
   },
   "outputs": [
    {
     "data": {
      "text/plain": [
       "True"
      ]
     },
     "execution_count": 12,
     "metadata": {},
     "output_type": "execute_result"
    }
   ],
   "source": [
    "'''\n",
    "Додамо новий стовпець Amount_checked з розрахунком вартості,\n",
    "а тоді порівняємо його значення зі значеннями у полі Amount по кожному рядку\n",
    "'''\n",
    "\n",
    "df['Amount_checked'] = df['Price'] * df['QTY'] * (1 - df['DISC'])\n",
    "df['Amount'].equals(df['Amount_checked'])"
   ]
  },
  {
   "cell_type": "markdown",
   "id": "f3149521",
   "metadata": {},
   "source": [
    "Всі значення у полях Amount і Amount_checked співпадають, значить тут всі дані вірні. "
   ]
  },
  {
   "cell_type": "markdown",
   "id": "d608fec7",
   "metadata": {},
   "source": [
    "3.4. Загальна вартість чеку Gross Bill Amount має дорівнювати вартості чеку без податку Net Bill Amount плюс податок GST.\\\n",
    "Тобто має виконуватись рівність **Net Bill Amount + Net Bill Amount * GST = Gross Bill Amount** для кожного запису (для кожної покупки у чеку).\n",
    "Перевіримо це."
   ]
  },
  {
   "cell_type": "code",
   "execution_count": 13,
   "id": "7cdcace6",
   "metadata": {
    "ExecuteTime": {
     "end_time": "2023-04-09T20:43:20.208930Z",
     "start_time": "2023-04-09T20:43:20.193932Z"
    }
   },
   "outputs": [
    {
     "data": {
      "text/plain": [
       "True"
      ]
     },
     "execution_count": 13,
     "metadata": {},
     "output_type": "execute_result"
    }
   ],
   "source": [
    "'''\n",
    "Перевірятимемо з точністю до 6-и знаків після коми.\n",
    "'''\n",
    "\n",
    "df['Gross Bill Amount_checked'] = df['Net Bill Amount'] + df['Net Bill Amount'] * df['GST']\n",
    "round(df['Gross Bill Amount'], 6).equals(round(df['Gross Bill Amount_checked'], 6))"
   ]
  },
  {
   "cell_type": "markdown",
   "id": "511b14af",
   "metadata": {},
   "source": [
    "Всі значення у полях Gross Bill Amount і Gross Bill Amount_checked співпадають, значить тут всі дані вірні."
   ]
  },
  {
   "cell_type": "markdown",
   "id": "adfb9da7",
   "metadata": {},
   "source": [
    "3.5. Перевіримо дані у полі Net Bill Amount, яке для кожної покупки у чеку (кожного запису) має показувати сумарну вартість усіх покупок цього чеку."
   ]
  },
  {
   "cell_type": "code",
   "execution_count": 14,
   "id": "7199a378",
   "metadata": {
    "ExecuteTime": {
     "end_time": "2023-04-09T20:43:43.168362Z",
     "start_time": "2023-04-09T20:43:28.125456Z"
    }
   },
   "outputs": [],
   "source": [
    "'''\n",
    "Додамо стовпець Net Bill Amount_checked, в якому для кожної покупки порахуємо суму чеку, до якого ця покупка належить.\n",
    "Суму рахуватимемо за полем Amount.\n",
    "'''\n",
    "\n",
    "def func(x, name):\n",
    "    x[name] = x['Amount'].sum()\n",
    "    return x\n",
    "\n",
    "df = df.groupby('Receipt Number').apply(lambda gr: func(gr, 'Net Bill Amount_checked'))"
   ]
  },
  {
   "cell_type": "code",
   "execution_count": 15,
   "id": "02d168b5",
   "metadata": {
    "ExecuteTime": {
     "end_time": "2023-04-09T20:43:44.352210Z",
     "start_time": "2023-04-09T20:43:44.334677Z"
    }
   },
   "outputs": [
    {
     "name": "stdout",
     "output_type": "stream",
     "text": [
      "21%\n"
     ]
    }
   ],
   "source": [
    "'''\n",
    "Значення отриманого стовпця порівняємо зі значеннями поля Net Bill Amount. \n",
    "'''\n",
    "\n",
    "df['Compare_2'] = round(df['Net Bill Amount'], 6) == round(df['Net Bill Amount_checked'], 6)\n",
    "a = len(df[df['Compare_2'] == False])\n",
    "b = len(df)\n",
    "print(f\"{a/b:.0%}\")"
   ]
  },
  {
   "cell_type": "markdown",
   "id": "21137989",
   "metadata": {},
   "source": [
    "Відсоток рядків, для яких значення поля Net Bill Amount невірне, надто високий. Нехтувати цими записами не варто.\\\n",
    "Тому просто для подальшого аналізу замість поля Net Bill Amount використовуватимемо розрахункове поле Net Bill Amount_checked.\\\n",
    "Перейменуємо його на Net Bill Amount_new."
   ]
  },
  {
   "cell_type": "code",
   "execution_count": 16,
   "id": "43d3ab39",
   "metadata": {
    "ExecuteTime": {
     "end_time": "2023-04-09T20:43:47.104986Z",
     "start_time": "2023-04-09T20:43:47.089422Z"
    }
   },
   "outputs": [],
   "source": [
    "df.rename(columns={'Net Bill Amount_checked': 'Net Bill Amount_new'}, inplace=True)"
   ]
  },
  {
   "cell_type": "markdown",
   "id": "39ab0eea",
   "metadata": {},
   "source": [
    "3.6. Так як поле **Gross Bill Amount** розраховується на основі значень поля Net Bill Amount, а ми визначили, що останнє показує невірні дані і замінили його новим, то слід новим замінити також і поле Gross Bill Amount - розрахованим на основі значень поля Net Bill Amount_new. "
   ]
  },
  {
   "cell_type": "code",
   "execution_count": 17,
   "id": "910ae9ef",
   "metadata": {
    "ExecuteTime": {
     "end_time": "2023-04-09T20:43:53.082708Z",
     "start_time": "2023-04-09T20:43:53.066130Z"
    }
   },
   "outputs": [],
   "source": [
    "df['Gross_Bill_Amount_new'] = df['Net Bill Amount_new'] + df['Net Bill Amount_new'] * df['GST']"
   ]
  },
  {
   "cell_type": "markdown",
   "id": "b24e9a6b",
   "metadata": {},
   "source": [
    "4. Очистимо DataFrame від допоміжних полів, які були створені для перевірок.\\\n",
    "Приберемо поля Net Bill Amount і Gross Bill Amount, які замінили новими.\\\n",
    "Змінимо тип даних деяких полів на більш зручний.\\\n",
    "Додамо поле з номером року і місяця, назвою дня тижня і поле з годиною продажу."
   ]
  },
  {
   "cell_type": "code",
   "execution_count": 18,
   "id": "d5858200",
   "metadata": {
    "ExecuteTime": {
     "end_time": "2023-04-09T20:44:00.259080Z",
     "start_time": "2023-04-09T20:43:59.230738Z"
    }
   },
   "outputs": [],
   "source": [
    "df = df.drop(columns = ['Cost_and_Margin_Portion', 'Cost_and_Margin', 'Compare_1', 'Amount_checked',\n",
    "                   'Gross Bill Amount_checked', 'Compare_2', 'Net Bill Amount', 'Gross Bill Amount'], axis = 1) \n",
    "\n",
    "df['Year'] = df['Year'].astype(int)\n",
    "df['Month'] = df['Month'].astype(int)\n",
    "df['Time'] = pd.to_datetime(df['Time'].astype(str).str.split('.').str[0]).dt.strftime('%H:%M')\n",
    "df['Mobile Number'] = df['Mobile Number'].astype(str).str.split('.').str[0]\n",
    "df['Loyalty Card Points'] = df['Loyalty Card Points'].astype(int)\n",
    "df['Age'] = df['Age'].astype(int)\n",
    "\n",
    "df.insert(loc = 2, column = 'Yearmonth', value = df.Date.dt.to_period('M'))\n",
    "df.insert(loc = 4, column = 'Dayofweek', value = df.Date.dt.day_name())\n",
    "df.insert(loc = 6, column = 'Hour', value = pd.Series(df['Time'].astype(str).str.split(':').str[0]))"
   ]
  },
  {
   "cell_type": "markdown",
   "id": "be7975d6",
   "metadata": {
    "ExecuteTime": {
     "end_time": "2023-04-05T16:21:43.973700Z",
     "start_time": "2023-04-05T16:21:43.959698Z"
    }
   },
   "source": [
    "5. Перевіримо який вигляд дані мають зараз."
   ]
  },
  {
   "cell_type": "code",
   "execution_count": 19,
   "id": "18225a99",
   "metadata": {
    "ExecuteTime": {
     "end_time": "2023-04-09T20:44:02.742792Z",
     "start_time": "2023-04-09T20:44:02.715711Z"
    }
   },
   "outputs": [
    {
     "data": {
      "text/html": [
       "<div>\n",
       "<style scoped>\n",
       "    .dataframe tbody tr th:only-of-type {\n",
       "        vertical-align: middle;\n",
       "    }\n",
       "\n",
       "    .dataframe tbody tr th {\n",
       "        vertical-align: top;\n",
       "    }\n",
       "\n",
       "    .dataframe thead th {\n",
       "        text-align: right;\n",
       "    }\n",
       "</style>\n",
       "<table border=\"1\" class=\"dataframe\">\n",
       "  <thead>\n",
       "    <tr style=\"text-align: right;\">\n",
       "      <th></th>\n",
       "      <th>Receipt Number</th>\n",
       "      <th>Date</th>\n",
       "      <th>Yearmonth</th>\n",
       "      <th>Year</th>\n",
       "      <th>Dayofweek</th>\n",
       "      <th>Month</th>\n",
       "      <th>Hour</th>\n",
       "      <th>Time</th>\n",
       "      <th>Mobile Number</th>\n",
       "      <th>Membership ID</th>\n",
       "      <th>Loyalty Card Points</th>\n",
       "      <th>Age</th>\n",
       "      <th>Gender</th>\n",
       "      <th>City</th>\n",
       "      <th>Country</th>\n",
       "      <th>Category</th>\n",
       "      <th>Sub_Category</th>\n",
       "      <th>Items</th>\n",
       "      <th>Brand</th>\n",
       "      <th>Description</th>\n",
       "      <th>Price</th>\n",
       "      <th>QTY</th>\n",
       "      <th>DISC</th>\n",
       "      <th>Amount</th>\n",
       "      <th>GST</th>\n",
       "      <th>Payment Mode</th>\n",
       "      <th>Bank Name</th>\n",
       "      <th>% Profit Margin</th>\n",
       "      <th>% Operating Cost</th>\n",
       "      <th>% Product Cost</th>\n",
       "      <th>Profit Margin</th>\n",
       "      <th>Operating Cost</th>\n",
       "      <th>Product Cost</th>\n",
       "      <th>Net Bill Amount_new</th>\n",
       "      <th>Gross_Bill_Amount_new</th>\n",
       "    </tr>\n",
       "  </thead>\n",
       "  <tbody>\n",
       "    <tr>\n",
       "      <th>0</th>\n",
       "      <td>GIJ00001</td>\n",
       "      <td>2016-01-02</td>\n",
       "      <td>2016-01</td>\n",
       "      <td>2016</td>\n",
       "      <td>Saturday</td>\n",
       "      <td>1</td>\n",
       "      <td>10</td>\n",
       "      <td>10:08</td>\n",
       "      <td>9793548581</td>\n",
       "      <td>MIDID0001</td>\n",
       "      <td>1</td>\n",
       "      <td>36</td>\n",
       "      <td>Male</td>\n",
       "      <td>Jakarta</td>\n",
       "      <td>Indonesia</td>\n",
       "      <td>Choco, Snacks, Sweets</td>\n",
       "      <td>Biscuits &amp; Crackers</td>\n",
       "      <td>Oreo mini oreo sharepack</td>\n",
       "      <td>Oreo</td>\n",
       "      <td>540 g</td>\n",
       "      <td>3.09</td>\n",
       "      <td>4.0</td>\n",
       "      <td>0.02</td>\n",
       "      <td>12.1128</td>\n",
       "      <td>0.1</td>\n",
       "      <td>Card</td>\n",
       "      <td>Enterprise Bank</td>\n",
       "      <td>0.150</td>\n",
       "      <td>0.15</td>\n",
       "      <td>0.700</td>\n",
       "      <td>1.85400</td>\n",
       "      <td>1.8540</td>\n",
       "      <td>8.65200</td>\n",
       "      <td>12.1128</td>\n",
       "      <td>13.32408</td>\n",
       "    </tr>\n",
       "    <tr>\n",
       "      <th>1</th>\n",
       "      <td>GIJ00002</td>\n",
       "      <td>2016-01-02</td>\n",
       "      <td>2016-01</td>\n",
       "      <td>2016</td>\n",
       "      <td>Saturday</td>\n",
       "      <td>1</td>\n",
       "      <td>15</td>\n",
       "      <td>15:46</td>\n",
       "      <td>9938441276</td>\n",
       "      <td>MIDID0002</td>\n",
       "      <td>2</td>\n",
       "      <td>54</td>\n",
       "      <td>Male</td>\n",
       "      <td>Jakarta</td>\n",
       "      <td>Indonesia</td>\n",
       "      <td>Wines, Beers &amp; Spirits</td>\n",
       "      <td>Beer</td>\n",
       "      <td>Ashai Lager Beer</td>\n",
       "      <td>Ashai</td>\n",
       "      <td>480 ml</td>\n",
       "      <td>11.60</td>\n",
       "      <td>2.0</td>\n",
       "      <td>0.01</td>\n",
       "      <td>22.9680</td>\n",
       "      <td>0.1</td>\n",
       "      <td>Card</td>\n",
       "      <td>Philippine Veterans Bank</td>\n",
       "      <td>0.118</td>\n",
       "      <td>0.15</td>\n",
       "      <td>0.732</td>\n",
       "      <td>2.73760</td>\n",
       "      <td>3.4800</td>\n",
       "      <td>16.98240</td>\n",
       "      <td>22.9680</td>\n",
       "      <td>25.26480</td>\n",
       "    </tr>\n",
       "    <tr>\n",
       "      <th>2</th>\n",
       "      <td>GIJ00003</td>\n",
       "      <td>2016-01-02</td>\n",
       "      <td>2016-01</td>\n",
       "      <td>2016</td>\n",
       "      <td>Saturday</td>\n",
       "      <td>1</td>\n",
       "      <td>11</td>\n",
       "      <td>11:28</td>\n",
       "      <td>9976742552</td>\n",
       "      <td>MIDID0003</td>\n",
       "      <td>1</td>\n",
       "      <td>16</td>\n",
       "      <td>Female</td>\n",
       "      <td>Jakarta</td>\n",
       "      <td>Indonesia</td>\n",
       "      <td>Fruit &amp; Vegetable</td>\n",
       "      <td>Frozen Fruits</td>\n",
       "      <td>Cascadian farm organic strawberries</td>\n",
       "      <td>Cascadiam Farm</td>\n",
       "      <td>1 Kg</td>\n",
       "      <td>13.31</td>\n",
       "      <td>1.0</td>\n",
       "      <td>0.01</td>\n",
       "      <td>13.1769</td>\n",
       "      <td>0.1</td>\n",
       "      <td>Cash</td>\n",
       "      <td>BDO Unibank</td>\n",
       "      <td>0.147</td>\n",
       "      <td>0.15</td>\n",
       "      <td>0.703</td>\n",
       "      <td>1.95657</td>\n",
       "      <td>1.9965</td>\n",
       "      <td>9.35693</td>\n",
       "      <td>30.7692</td>\n",
       "      <td>33.84612</td>\n",
       "    </tr>\n",
       "    <tr>\n",
       "      <th>3</th>\n",
       "      <td>GIJ00003</td>\n",
       "      <td>2016-01-02</td>\n",
       "      <td>2016-01</td>\n",
       "      <td>2016</td>\n",
       "      <td>Saturday</td>\n",
       "      <td>1</td>\n",
       "      <td>11</td>\n",
       "      <td>11:28</td>\n",
       "      <td>9976742552</td>\n",
       "      <td>MIDID0003</td>\n",
       "      <td>1</td>\n",
       "      <td>16</td>\n",
       "      <td>Female</td>\n",
       "      <td>Jakarta</td>\n",
       "      <td>Indonesia</td>\n",
       "      <td>Fruit &amp; Vegetable</td>\n",
       "      <td>Fresh Vegetables</td>\n",
       "      <td>Oraganic 4 Life Red onions</td>\n",
       "      <td>Organic 4 Life</td>\n",
       "      <td>270 g</td>\n",
       "      <td>3.52</td>\n",
       "      <td>1.0</td>\n",
       "      <td>0.01</td>\n",
       "      <td>3.4848</td>\n",
       "      <td>0.1</td>\n",
       "      <td>Cash</td>\n",
       "      <td>BDO Unibank</td>\n",
       "      <td>0.095</td>\n",
       "      <td>0.15</td>\n",
       "      <td>0.755</td>\n",
       "      <td>0.33440</td>\n",
       "      <td>0.5280</td>\n",
       "      <td>2.65760</td>\n",
       "      <td>30.7692</td>\n",
       "      <td>33.84612</td>\n",
       "    </tr>\n",
       "    <tr>\n",
       "      <th>4</th>\n",
       "      <td>GIJ00003</td>\n",
       "      <td>2016-01-02</td>\n",
       "      <td>2016-01</td>\n",
       "      <td>2016</td>\n",
       "      <td>Saturday</td>\n",
       "      <td>1</td>\n",
       "      <td>11</td>\n",
       "      <td>11:28</td>\n",
       "      <td>9976742552</td>\n",
       "      <td>MIDID0003</td>\n",
       "      <td>2</td>\n",
       "      <td>16</td>\n",
       "      <td>Female</td>\n",
       "      <td>Jakarta</td>\n",
       "      <td>Indonesia</td>\n",
       "      <td>Fruit &amp; Vegetable</td>\n",
       "      <td>Lettuce &amp; Salads</td>\n",
       "      <td>LIVEWELL Italian mesclun salad</td>\n",
       "      <td>LIVEWELL</td>\n",
       "      <td>570 g</td>\n",
       "      <td>4.41</td>\n",
       "      <td>1.0</td>\n",
       "      <td>0.01</td>\n",
       "      <td>4.3659</td>\n",
       "      <td>0.1</td>\n",
       "      <td>Cash</td>\n",
       "      <td>BDO Unibank</td>\n",
       "      <td>0.120</td>\n",
       "      <td>0.15</td>\n",
       "      <td>0.730</td>\n",
       "      <td>0.52920</td>\n",
       "      <td>0.6615</td>\n",
       "      <td>3.21930</td>\n",
       "      <td>30.7692</td>\n",
       "      <td>33.84612</td>\n",
       "    </tr>\n",
       "  </tbody>\n",
       "</table>\n",
       "</div>"
      ],
      "text/plain": [
       "  Receipt Number       Date Yearmonth  Year Dayofweek  Month Hour   Time  \\\n",
       "0       GIJ00001 2016-01-02   2016-01  2016  Saturday      1   10  10:08   \n",
       "1       GIJ00002 2016-01-02   2016-01  2016  Saturday      1   15  15:46   \n",
       "2       GIJ00003 2016-01-02   2016-01  2016  Saturday      1   11  11:28   \n",
       "3       GIJ00003 2016-01-02   2016-01  2016  Saturday      1   11  11:28   \n",
       "4       GIJ00003 2016-01-02   2016-01  2016  Saturday      1   11  11:28   \n",
       "\n",
       "  Mobile Number Membership ID  Loyalty Card Points  Age  Gender     City  \\\n",
       "0    9793548581     MIDID0001                    1   36    Male  Jakarta   \n",
       "1    9938441276     MIDID0002                    2   54    Male  Jakarta   \n",
       "2    9976742552     MIDID0003                    1   16  Female  Jakarta   \n",
       "3    9976742552     MIDID0003                    1   16  Female  Jakarta   \n",
       "4    9976742552     MIDID0003                    2   16  Female  Jakarta   \n",
       "\n",
       "     Country                Category         Sub_Category  \\\n",
       "0  Indonesia   Choco, Snacks, Sweets  Biscuits & Crackers   \n",
       "1  Indonesia  Wines, Beers & Spirits                 Beer   \n",
       "2  Indonesia       Fruit & Vegetable        Frozen Fruits   \n",
       "3  Indonesia       Fruit & Vegetable     Fresh Vegetables   \n",
       "4  Indonesia       Fruit & Vegetable     Lettuce & Salads   \n",
       "\n",
       "                                 Items          Brand  Description   Price  \\\n",
       "0             Oreo mini oreo sharepack            Oreo        540 g   3.09   \n",
       "1                     Ashai Lager Beer           Ashai       480 ml  11.60   \n",
       "2  Cascadian farm organic strawberries  Cascadiam Farm         1 Kg  13.31   \n",
       "3           Oraganic 4 Life Red onions  Organic 4 Life        270 g   3.52   \n",
       "4       LIVEWELL Italian mesclun salad        LIVEWELL        570 g   4.41   \n",
       "\n",
       "   QTY  DISC   Amount  GST Payment Mode                 Bank Name  \\\n",
       "0  4.0  0.02  12.1128  0.1         Card           Enterprise Bank   \n",
       "1  2.0  0.01  22.9680  0.1         Card  Philippine Veterans Bank   \n",
       "2  1.0  0.01  13.1769  0.1         Cash               BDO Unibank   \n",
       "3  1.0  0.01   3.4848  0.1         Cash               BDO Unibank   \n",
       "4  1.0  0.01   4.3659  0.1         Cash               BDO Unibank   \n",
       "\n",
       "   % Profit Margin  % Operating Cost  % Product Cost  Profit Margin  \\\n",
       "0            0.150              0.15           0.700        1.85400   \n",
       "1            0.118              0.15           0.732        2.73760   \n",
       "2            0.147              0.15           0.703        1.95657   \n",
       "3            0.095              0.15           0.755        0.33440   \n",
       "4            0.120              0.15           0.730        0.52920   \n",
       "\n",
       "   Operating Cost  Product Cost  Net Bill Amount_new  Gross_Bill_Amount_new  \n",
       "0          1.8540       8.65200              12.1128               13.32408  \n",
       "1          3.4800      16.98240              22.9680               25.26480  \n",
       "2          1.9965       9.35693              30.7692               33.84612  \n",
       "3          0.5280       2.65760              30.7692               33.84612  \n",
       "4          0.6615       3.21930              30.7692               33.84612  "
      ]
     },
     "execution_count": 19,
     "metadata": {},
     "output_type": "execute_result"
    }
   ],
   "source": [
    "df.head()"
   ]
  },
  {
   "cell_type": "markdown",
   "id": "63ef2dcd",
   "metadata": {
    "ExecuteTime": {
     "end_time": "2023-04-09T05:32:19.768494Z",
     "start_time": "2023-04-09T05:32:19.744478Z"
    }
   },
   "source": [
    "6. Оцінимо який період охоплюють дані."
   ]
  },
  {
   "cell_type": "code",
   "execution_count": 20,
   "id": "215ee457",
   "metadata": {
    "ExecuteTime": {
     "end_time": "2023-04-09T20:44:06.588813Z",
     "start_time": "2023-04-09T20:44:06.574812Z"
    }
   },
   "outputs": [
    {
     "data": {
      "text/plain": [
       "(Timestamp('2016-01-01 00:00:00'), Timestamp('2019-12-31 00:00:00'))"
      ]
     },
     "execution_count": 20,
     "metadata": {},
     "output_type": "execute_result"
    }
   ],
   "source": [
    "df['Date'].min(), df['Date'].max()"
   ]
  },
  {
   "cell_type": "markdown",
   "id": "5b2a7acd",
   "metadata": {},
   "source": [
    "7. Подивимось в яких країнах розміщені магазини, дані яких беруться для аналізу."
   ]
  },
  {
   "cell_type": "code",
   "execution_count": 21,
   "id": "1e045fe5",
   "metadata": {
    "ExecuteTime": {
     "end_time": "2023-04-09T20:44:11.746398Z",
     "start_time": "2023-04-09T20:44:11.731392Z"
    }
   },
   "outputs": [
    {
     "data": {
      "text/plain": [
       "array(['Indonesia', 'Malaysia', 'Philippines', 'Singapore'], dtype=object)"
      ]
     },
     "execution_count": 21,
     "metadata": {},
     "output_type": "execute_result"
    }
   ],
   "source": [
    "df['Country'].unique()"
   ]
  },
  {
   "cell_type": "markdown",
   "id": "fcad9601",
   "metadata": {},
   "source": [
    "# Базовий аналіз даних (EDA)"
   ]
  },
  {
   "cell_type": "markdown",
   "id": "8da5ab48",
   "metadata": {},
   "source": [
    "## Аналіз прибутку і виручки"
   ]
  },
  {
   "cell_type": "markdown",
   "id": "280ed580",
   "metadata": {
    "ExecuteTime": {
     "end_time": "2023-04-09T06:26:37.154640Z",
     "start_time": "2023-04-09T06:26:37.138635Z"
    }
   },
   "source": [
    "**1. Якою є загальна динаміка чистого прибутку?**"
   ]
  },
  {
   "cell_type": "code",
   "execution_count": 22,
   "id": "34bad020",
   "metadata": {
    "ExecuteTime": {
     "end_time": "2023-04-09T20:44:19.444159Z",
     "start_time": "2023-04-09T20:44:19.173749Z"
    }
   },
   "outputs": [
    {
     "data": {
      "image/png": "[encoded data removed]",
      "text/plain": [
       "<Figure size 640x480 with 1 Axes>"
      ]
     },
     "metadata": {},
     "output_type": "display_data"
    }
   ],
   "source": [
    "df['Net_Profit'] = df['Profit Margin'] * (1 - df['DISC'])\n",
    "df.groupby('Yearmonth').Net_Profit.sum().plot();"
   ]
  },
  {
   "cell_type": "markdown",
   "id": "72f141fa",
   "metadata": {},
   "source": [
    "**Висновок:** загальна динаміка чистого прибутку позитивна, але дуже неоднорідна від місяця до місяця - спостерігається багато піків і провалів. Чітко видно суттєве збільшення прибутку в період наближення до кінця кожного року спостереження."
   ]
  },
  {
   "cell_type": "markdown",
   "id": "fe50571a",
   "metadata": {},
   "source": [
    "**2. Яким є чистий прибуток в розрізі кожного року і місяця?**"
   ]
  },
  {
   "cell_type": "code",
   "execution_count": 23,
   "id": "a342ee51",
   "metadata": {
    "ExecuteTime": {
     "end_time": "2023-04-09T20:44:28.767286Z",
     "start_time": "2023-04-09T20:44:28.647709Z"
    }
   },
   "outputs": [
    {
     "data": {
      "text/html": [
       "<style type=\"text/css\">\n",
       "#T_9af70_row0_col0 {\n",
       "  background-color: #f0eaf4;\n",
       "  color: #000000;\n",
       "}\n",
       "#T_9af70_row0_col1 {\n",
       "  background-color: #056ead;\n",
       "  color: #f1f1f1;\n",
       "}\n",
       "#T_9af70_row0_col2, #T_9af70_row6_col2, #T_9af70_row11_col0, #T_9af70_row11_col1, #T_9af70_row11_col3 {\n",
       "  background-color: #023858;\n",
       "  color: #f1f1f1;\n",
       "}\n",
       "#T_9af70_row0_col3 {\n",
       "  background-color: #a7bddb;\n",
       "  color: #000000;\n",
       "}\n",
       "#T_9af70_row1_col0 {\n",
       "  background-color: #eee9f3;\n",
       "  color: #000000;\n",
       "}\n",
       "#T_9af70_row1_col1, #T_9af70_row2_col0, #T_9af70_row3_col3, #T_9af70_row7_col2 {\n",
       "  background-color: #fff7fb;\n",
       "  color: #000000;\n",
       "}\n",
       "#T_9af70_row1_col2 {\n",
       "  background-color: #9ebad9;\n",
       "  color: #000000;\n",
       "}\n",
       "#T_9af70_row1_col3 {\n",
       "  background-color: #c6cce3;\n",
       "  color: #000000;\n",
       "}\n",
       "#T_9af70_row2_col1 {\n",
       "  background-color: #6da6cd;\n",
       "  color: #f1f1f1;\n",
       "}\n",
       "#T_9af70_row2_col2 {\n",
       "  background-color: #f4edf6;\n",
       "  color: #000000;\n",
       "}\n",
       "#T_9af70_row2_col3 {\n",
       "  background-color: #6ba5cd;\n",
       "  color: #f1f1f1;\n",
       "}\n",
       "#T_9af70_row3_col0 {\n",
       "  background-color: #d2d3e7;\n",
       "  color: #000000;\n",
       "}\n",
       "#T_9af70_row3_col1, #T_9af70_row5_col3 {\n",
       "  background-color: #e5e1ef;\n",
       "  color: #000000;\n",
       "}\n",
       "#T_9af70_row3_col2 {\n",
       "  background-color: #2c89bd;\n",
       "  color: #f1f1f1;\n",
       "}\n",
       "#T_9af70_row4_col0 {\n",
       "  background-color: #d9d8ea;\n",
       "  color: #000000;\n",
       "}\n",
       "#T_9af70_row4_col1 {\n",
       "  background-color: #71a8ce;\n",
       "  color: #f1f1f1;\n",
       "}\n",
       "#T_9af70_row4_col2 {\n",
       "  background-color: #c2cbe2;\n",
       "  color: #000000;\n",
       "}\n",
       "#T_9af70_row4_col3 {\n",
       "  background-color: #81aed2;\n",
       "  color: #f1f1f1;\n",
       "}\n",
       "#T_9af70_row5_col0 {\n",
       "  background-color: #c1cae2;\n",
       "  color: #000000;\n",
       "}\n",
       "#T_9af70_row5_col1 {\n",
       "  background-color: #d6d6e9;\n",
       "  color: #000000;\n",
       "}\n",
       "#T_9af70_row5_col2 {\n",
       "  background-color: #045c90;\n",
       "  color: #f1f1f1;\n",
       "}\n",
       "#T_9af70_row6_col0 {\n",
       "  background-color: #e3e0ee;\n",
       "  color: #000000;\n",
       "}\n",
       "#T_9af70_row6_col1 {\n",
       "  background-color: #83afd3;\n",
       "  color: #f1f1f1;\n",
       "}\n",
       "#T_9af70_row6_col3, #T_9af70_row9_col1 {\n",
       "  background-color: #86b0d3;\n",
       "  color: #000000;\n",
       "}\n",
       "#T_9af70_row7_col0, #T_9af70_row10_col3 {\n",
       "  background-color: #7dacd1;\n",
       "  color: #f1f1f1;\n",
       "}\n",
       "#T_9af70_row7_col1 {\n",
       "  background-color: #f2ecf5;\n",
       "  color: #000000;\n",
       "}\n",
       "#T_9af70_row7_col3 {\n",
       "  background-color: #9cb9d9;\n",
       "  color: #000000;\n",
       "}\n",
       "#T_9af70_row8_col0, #T_9af70_row9_col0 {\n",
       "  background-color: #a1bbda;\n",
       "  color: #000000;\n",
       "}\n",
       "#T_9af70_row8_col1 {\n",
       "  background-color: #a9bfdc;\n",
       "  color: #000000;\n",
       "}\n",
       "#T_9af70_row8_col2 {\n",
       "  background-color: #ece7f2;\n",
       "  color: #000000;\n",
       "}\n",
       "#T_9af70_row8_col3 {\n",
       "  background-color: #dedcec;\n",
       "  color: #000000;\n",
       "}\n",
       "#T_9af70_row9_col2 {\n",
       "  background-color: #88b1d4;\n",
       "  color: #000000;\n",
       "}\n",
       "#T_9af70_row9_col3 {\n",
       "  background-color: #7bacd1;\n",
       "  color: #f1f1f1;\n",
       "}\n",
       "#T_9af70_row10_col0 {\n",
       "  background-color: #d8d7e9;\n",
       "  color: #000000;\n",
       "}\n",
       "#T_9af70_row10_col1 {\n",
       "  background-color: #e9e5f1;\n",
       "  color: #000000;\n",
       "}\n",
       "#T_9af70_row10_col2 {\n",
       "  background-color: #045d92;\n",
       "  color: #f1f1f1;\n",
       "}\n",
       "#T_9af70_row11_col2 {\n",
       "  background-color: #023a5b;\n",
       "  color: #f1f1f1;\n",
       "}\n",
       "</style>\n",
       "<table id=\"T_9af70_\">\n",
       "  <thead>\n",
       "    <tr>\n",
       "      <th class=\"index_name level0\" >Year</th>\n",
       "      <th class=\"col_heading level0 col0\" >2016</th>\n",
       "      <th class=\"col_heading level0 col1\" >2017</th>\n",
       "      <th class=\"col_heading level0 col2\" >2018</th>\n",
       "      <th class=\"col_heading level0 col3\" >2019</th>\n",
       "    </tr>\n",
       "    <tr>\n",
       "      <th class=\"index_name level0\" >Month</th>\n",
       "      <th class=\"blank col0\" >&nbsp;</th>\n",
       "      <th class=\"blank col1\" >&nbsp;</th>\n",
       "      <th class=\"blank col2\" >&nbsp;</th>\n",
       "      <th class=\"blank col3\" >&nbsp;</th>\n",
       "    </tr>\n",
       "  </thead>\n",
       "  <tbody>\n",
       "    <tr>\n",
       "      <th id=\"T_9af70_level0_row0\" class=\"row_heading level0 row0\" >1</th>\n",
       "      <td id=\"T_9af70_row0_col0\" class=\"data row0 col0\" >927.046716</td>\n",
       "      <td id=\"T_9af70_row0_col1\" class=\"data row0 col1\" >1280.797538</td>\n",
       "      <td id=\"T_9af70_row0_col2\" class=\"data row0 col2\" >1404.785856</td>\n",
       "      <td id=\"T_9af70_row0_col3\" class=\"data row0 col3\" >1494.174249</td>\n",
       "    </tr>\n",
       "    <tr>\n",
       "      <th id=\"T_9af70_level0_row1\" class=\"row_heading level0 row1\" >2</th>\n",
       "      <td id=\"T_9af70_row1_col0\" class=\"data row1 col0\" >930.070682</td>\n",
       "      <td id=\"T_9af70_row1_col1\" class=\"data row1 col1\" >929.100489</td>\n",
       "      <td id=\"T_9af70_row1_col2\" class=\"data row1 col2\" >1229.751749</td>\n",
       "      <td id=\"T_9af70_row1_col3\" class=\"data row1 col3\" >1407.553143</td>\n",
       "    </tr>\n",
       "    <tr>\n",
       "      <th id=\"T_9af70_level0_row2\" class=\"row_heading level0 row2\" >3</th>\n",
       "      <td id=\"T_9af70_row2_col0\" class=\"data row2 col0\" >890.389114</td>\n",
       "      <td id=\"T_9af70_row2_col1\" class=\"data row2 col1\" >1166.363317</td>\n",
       "      <td id=\"T_9af70_row2_col2\" class=\"data row2 col2\" >1136.439415</td>\n",
       "      <td id=\"T_9af70_row2_col3\" class=\"data row2 col3\" >1627.188237</td>\n",
       "    </tr>\n",
       "    <tr>\n",
       "      <th id=\"T_9af70_level0_row3\" class=\"row_heading level0 row3\" >4</th>\n",
       "      <td id=\"T_9af70_row3_col0\" class=\"data row3 col0\" >974.547219</td>\n",
       "      <td id=\"T_9af70_row3_col1\" class=\"data row3 col1\" >1003.020001</td>\n",
       "      <td id=\"T_9af70_row3_col2\" class=\"data row3 col2\" >1302.860864</td>\n",
       "      <td id=\"T_9af70_row3_col3\" class=\"data row3 col3\" >1155.022536</td>\n",
       "    </tr>\n",
       "    <tr>\n",
       "      <th id=\"T_9af70_level0_row4\" class=\"row_heading level0 row4\" >5</th>\n",
       "      <td id=\"T_9af70_row4_col0\" class=\"data row4 col0\" >964.697346</td>\n",
       "      <td id=\"T_9af70_row4_col1\" class=\"data row4 col1\" >1162.863334</td>\n",
       "      <td id=\"T_9af70_row4_col2\" class=\"data row4 col2\" >1199.047095</td>\n",
       "      <td id=\"T_9af70_row4_col3\" class=\"data row4 col3\" >1578.579808</td>\n",
       "    </tr>\n",
       "    <tr>\n",
       "      <th id=\"T_9af70_level0_row5\" class=\"row_heading level0 row5\" >6</th>\n",
       "      <td id=\"T_9af70_row5_col0\" class=\"data row5 col0\" >994.818861</td>\n",
       "      <td id=\"T_9af70_row5_col1\" class=\"data row5 col1\" >1032.652405</td>\n",
       "      <td id=\"T_9af70_row5_col2\" class=\"data row5 col2\" >1364.150299</td>\n",
       "      <td id=\"T_9af70_row5_col3\" class=\"data row5 col3\" >1300.588039</td>\n",
       "    </tr>\n",
       "    <tr>\n",
       "      <th id=\"T_9af70_level0_row6\" class=\"row_heading level0 row6\" >7</th>\n",
       "      <td id=\"T_9af70_row6_col0\" class=\"data row6 col0\" >949.345824</td>\n",
       "      <td id=\"T_9af70_row6_col1\" class=\"data row6 col1\" >1143.160235</td>\n",
       "      <td id=\"T_9af70_row6_col2\" class=\"data row6 col2\" >1403.852989</td>\n",
       "      <td id=\"T_9af70_row6_col3\" class=\"data row6 col3\" >1569.925666</td>\n",
       "    </tr>\n",
       "    <tr>\n",
       "      <th id=\"T_9af70_level0_row7\" class=\"row_heading level0 row7\" >8</th>\n",
       "      <td id=\"T_9af70_row7_col0\" class=\"data row7 col0\" >1059.444908</td>\n",
       "      <td id=\"T_9af70_row7_col1\" class=\"data row7 col1\" >968.167724</td>\n",
       "      <td id=\"T_9af70_row7_col2\" class=\"data row7 col2\" >1114.451610</td>\n",
       "      <td id=\"T_9af70_row7_col3\" class=\"data row7 col3\" >1520.078512</td>\n",
       "    </tr>\n",
       "    <tr>\n",
       "      <th id=\"T_9af70_level0_row8\" class=\"row_heading level0 row8\" >9</th>\n",
       "      <td id=\"T_9af70_row8_col0\" class=\"data row8 col0\" >1027.009182</td>\n",
       "      <td id=\"T_9af70_row8_col1\" class=\"data row8 col1\" >1098.855345</td>\n",
       "      <td id=\"T_9af70_row8_col2\" class=\"data row8 col2\" >1150.761150</td>\n",
       "      <td id=\"T_9af70_row8_col3\" class=\"data row8 col3\" >1326.113694</td>\n",
       "    </tr>\n",
       "    <tr>\n",
       "      <th id=\"T_9af70_level0_row9\" class=\"row_heading level0 row9\" >10</th>\n",
       "      <td id=\"T_9af70_row9_col0\" class=\"data row9 col0\" >1027.866683</td>\n",
       "      <td id=\"T_9af70_row9_col1\" class=\"data row9 col1\" >1139.105473</td>\n",
       "      <td id=\"T_9af70_row9_col2\" class=\"data row9 col2\" >1245.238061</td>\n",
       "      <td id=\"T_9af70_row9_col3\" class=\"data row9 col3\" >1593.002484</td>\n",
       "    </tr>\n",
       "    <tr>\n",
       "      <th id=\"T_9af70_level0_row10\" class=\"row_heading level0 row10\" >11</th>\n",
       "      <td id=\"T_9af70_row10_col0\" class=\"data row10 col0\" >967.124996</td>\n",
       "      <td id=\"T_9af70_row10_col1\" class=\"data row10 col1\" >993.409243</td>\n",
       "      <td id=\"T_9af70_row10_col2\" class=\"data row10 col2\" >1362.868056</td>\n",
       "      <td id=\"T_9af70_row10_col3\" class=\"data row10 col3\" >1591.836745</td>\n",
       "    </tr>\n",
       "    <tr>\n",
       "      <th id=\"T_9af70_level0_row11\" class=\"row_heading level0 row11\" >12</th>\n",
       "      <td id=\"T_9af70_row11_col0\" class=\"data row11 col0\" >1243.188003</td>\n",
       "      <td id=\"T_9af70_row11_col1\" class=\"data row11 col1\" >1391.661714</td>\n",
       "      <td id=\"T_9af70_row11_col2\" class=\"data row11 col2\" >1401.526795</td>\n",
       "      <td id=\"T_9af70_row11_col3\" class=\"data row11 col3\" >2065.138923</td>\n",
       "    </tr>\n",
       "  </tbody>\n",
       "</table>\n"
      ],
      "text/plain": [
       "<pandas.io.formats.style.Styler at 0x2c5c54b79c8>"
      ]
     },
     "execution_count": 23,
     "metadata": {},
     "output_type": "execute_result"
    }
   ],
   "source": [
    "Net_Profit_pivot = df.pivot_table(index = ['Month'], columns = ['Year'], values = 'Net_Profit', aggfunc = 'sum')\n",
    "Net_Profit_pivot\n",
    "Net_Profit_pivot.style.background_gradient(axis=0)"
   ]
  },
  {
   "cell_type": "markdown",
   "id": "1a0339aa",
   "metadata": {},
   "source": [
    "**Висновок:** Окрім чітко вираженого росту прибутку у грудні (що вже можна вважати сезонністю), помітно, що у 2018-му році магазини дали аналогічнй за величиною чистий рибуток у січні і липні. Питанням для подальшого дослідження може бути  - за рахунок чого їм це вдалось і чи можливо повторити це в майбутньому (чи були витрати у ці періоди менші і це було специфікою виключно 2018-го року, чи були середні ціни вищі, чи була загальна кількість продажів вища)."
   ]
  },
  {
   "cell_type": "markdown",
   "id": "6cf5690a",
   "metadata": {},
   "source": [
    "**3. Яку сумарну виручку отримали магазини мережі у розрізі країн (скільки грошей отримала каса)?** "
   ]
  },
  {
   "cell_type": "code",
   "execution_count": 24,
   "id": "3376943b",
   "metadata": {
    "ExecuteTime": {
     "end_time": "2023-04-09T20:44:40.465346Z",
     "start_time": "2023-04-09T20:44:38.981960Z"
    }
   },
   "outputs": [
    {
     "data": {
      "image/png": "[encoded data removed]",
      "text/plain": [
       "<Figure size 640x480 with 1 Axes>"
      ]
     },
     "metadata": {},
     "output_type": "display_data"
    }
   ],
   "source": [
    "barpl = sns.barplot(\n",
    "        x = 'Gross_Bill_Amount_new', \n",
    "        y = 'Country', \n",
    "        data = df.drop_duplicates(subset = ['Receipt Number']), \n",
    "        estimator = sum, \n",
    "        color = '#7BC8F6')\n",
    "plt.bar_label(barpl.containers[0], label_type = 'center')\n",
    "plt.xlabel('Gross Bill Amount');"
   ]
  },
  {
   "cell_type": "markdown",
   "id": "3c666008",
   "metadata": {},
   "source": [
    "**Висновок:** Найбільшу суму каса отримала в Сінгапурі, найменшу - в Індонезіі. "
   ]
  },
  {
   "cell_type": "markdown",
   "id": "fba3315c",
   "metadata": {},
   "source": [
    "**4. Чи пов’язана різниця у виручці з різницею середньої ціни одиниці товару у різних країнах? Чи це наслідок більшої кількості проданого товару?**"
   ]
  },
  {
   "cell_type": "code",
   "execution_count": 25,
   "id": "e1e5b614",
   "metadata": {
    "ExecuteTime": {
     "end_time": "2023-04-09T20:44:58.062281Z",
     "start_time": "2023-04-09T20:44:58.040310Z"
    }
   },
   "outputs": [
    {
     "data": {
      "text/html": [
       "<div>\n",
       "<style scoped>\n",
       "    .dataframe tbody tr th:only-of-type {\n",
       "        vertical-align: middle;\n",
       "    }\n",
       "\n",
       "    .dataframe tbody tr th {\n",
       "        vertical-align: top;\n",
       "    }\n",
       "\n",
       "    .dataframe thead th {\n",
       "        text-align: right;\n",
       "    }\n",
       "</style>\n",
       "<table border=\"1\" class=\"dataframe\">\n",
       "  <thead>\n",
       "    <tr style=\"text-align: right;\">\n",
       "      <th></th>\n",
       "      <th>Receipt Number</th>\n",
       "      <th>Price</th>\n",
       "    </tr>\n",
       "    <tr>\n",
       "      <th>Country</th>\n",
       "      <th></th>\n",
       "      <th></th>\n",
       "    </tr>\n",
       "  </thead>\n",
       "  <tbody>\n",
       "    <tr>\n",
       "      <th>Indonesia</th>\n",
       "      <td>2419</td>\n",
       "      <td>7.384130</td>\n",
       "    </tr>\n",
       "    <tr>\n",
       "      <th>Malaysia</th>\n",
       "      <td>2836</td>\n",
       "      <td>7.435453</td>\n",
       "    </tr>\n",
       "    <tr>\n",
       "      <th>Philippines</th>\n",
       "      <td>3094</td>\n",
       "      <td>7.386291</td>\n",
       "    </tr>\n",
       "    <tr>\n",
       "      <th>Singapore</th>\n",
       "      <td>4699</td>\n",
       "      <td>7.463349</td>\n",
       "    </tr>\n",
       "  </tbody>\n",
       "</table>\n",
       "</div>"
      ],
      "text/plain": [
       "             Receipt Number     Price\n",
       "Country                              \n",
       "Indonesia              2419  7.384130\n",
       "Malaysia               2836  7.435453\n",
       "Philippines            3094  7.386291\n",
       "Singapore              4699  7.463349"
      ]
     },
     "execution_count": 25,
     "metadata": {},
     "output_type": "execute_result"
    }
   ],
   "source": [
    "(\n",
    "    df\n",
    "    .groupby('Country')\n",
    "    .aggregate({'Receipt Number':'nunique','Price':'mean'})\n",
    ")"
   ]
  },
  {
   "cell_type": "markdown",
   "id": "b3083699",
   "metadata": {},
   "source": [
    "**Висновок:** Середня ціна одиниці проданого товару практично однакова по країнам. А от кількість чеків суттєво відрізняється. При цьому вона повторюює картину розподілу виручки по країнам. Тому можна сказати, що більша виручка Сінгапуру є наслідком більшого товарообороту (більшої кількості покупців)."
   ]
  },
  {
   "cell_type": "markdown",
   "id": "1e63f638",
   "metadata": {},
   "source": [
    "## Аналіз попиту і товарної пропозиції"
   ]
  },
  {
   "cell_type": "markdown",
   "id": "bd4086f0",
   "metadata": {},
   "source": [
    "**5. Наскільки різноманітною є пропозиція товару у магазинах по країнам?**"
   ]
  },
  {
   "cell_type": "code",
   "execution_count": 26,
   "id": "3c90dc74",
   "metadata": {
    "ExecuteTime": {
     "end_time": "2023-04-09T20:45:29.446568Z",
     "start_time": "2023-04-09T20:45:29.393446Z"
    }
   },
   "outputs": [
    {
     "data": {
      "text/html": [
       "<style type=\"text/css\">\n",
       "#T_e3ae9_row0_col0, #T_e3ae9_row0_col1, #T_e3ae9_row0_col3, #T_e3ae9_row7_col1, #T_e3ae9_row7_col2, #T_e3ae9_row7_col3, #T_e3ae9_row8_col3, #T_e3ae9_row11_col3, #T_e3ae9_row14_col0, #T_e3ae9_row14_col1, #T_e3ae9_row15_col1, #T_e3ae9_row15_col3 {\n",
       "  background-color: #023858;\n",
       "  color: #f1f1f1;\n",
       "}\n",
       "#T_e3ae9_row0_col2, #T_e3ae9_row1_col0, #T_e3ae9_row1_col1, #T_e3ae9_row1_col2, #T_e3ae9_row1_col3, #T_e3ae9_row2_col0, #T_e3ae9_row2_col1, #T_e3ae9_row2_col2, #T_e3ae9_row2_col3, #T_e3ae9_row3_col0, #T_e3ae9_row3_col1, #T_e3ae9_row3_col2, #T_e3ae9_row3_col3, #T_e3ae9_row4_col0, #T_e3ae9_row4_col1, #T_e3ae9_row4_col2, #T_e3ae9_row4_col3, #T_e3ae9_row5_col0, #T_e3ae9_row5_col1, #T_e3ae9_row5_col2, #T_e3ae9_row5_col3, #T_e3ae9_row6_col0, #T_e3ae9_row6_col1, #T_e3ae9_row6_col2, #T_e3ae9_row6_col3, #T_e3ae9_row7_col0, #T_e3ae9_row8_col0, #T_e3ae9_row9_col0, #T_e3ae9_row9_col1, #T_e3ae9_row9_col2, #T_e3ae9_row9_col3, #T_e3ae9_row10_col0, #T_e3ae9_row10_col1, #T_e3ae9_row10_col2, #T_e3ae9_row10_col3, #T_e3ae9_row11_col0, #T_e3ae9_row12_col0, #T_e3ae9_row12_col1, #T_e3ae9_row12_col2, #T_e3ae9_row12_col3, #T_e3ae9_row13_col0, #T_e3ae9_row13_col1, #T_e3ae9_row13_col2, #T_e3ae9_row13_col3, #T_e3ae9_row14_col3, #T_e3ae9_row15_col0, #T_e3ae9_row15_col2 {\n",
       "  background-color: #fff7fb;\n",
       "  color: #000000;\n",
       "}\n",
       "#T_e3ae9_row8_col1, #T_e3ae9_row8_col2 {\n",
       "  background-color: #2685bb;\n",
       "  color: #f1f1f1;\n",
       "}\n",
       "#T_e3ae9_row11_col1, #T_e3ae9_row11_col2, #T_e3ae9_row14_col2 {\n",
       "  background-color: #73a9cf;\n",
       "  color: #f1f1f1;\n",
       "}\n",
       "</style>\n",
       "<table id=\"T_e3ae9_\">\n",
       "  <thead>\n",
       "    <tr>\n",
       "      <th class=\"index_name level0\" >Country</th>\n",
       "      <th class=\"col_heading level0 col0\" >Indonesia</th>\n",
       "      <th class=\"col_heading level0 col1\" >Malaysia</th>\n",
       "      <th class=\"col_heading level0 col2\" >Philippines</th>\n",
       "      <th class=\"col_heading level0 col3\" >Singapore</th>\n",
       "    </tr>\n",
       "    <tr>\n",
       "      <th class=\"index_name level0\" >Category</th>\n",
       "      <th class=\"blank col0\" >&nbsp;</th>\n",
       "      <th class=\"blank col1\" >&nbsp;</th>\n",
       "      <th class=\"blank col2\" >&nbsp;</th>\n",
       "      <th class=\"blank col3\" >&nbsp;</th>\n",
       "    </tr>\n",
       "  </thead>\n",
       "  <tbody>\n",
       "    <tr>\n",
       "      <th id=\"T_e3ae9_level0_row0\" class=\"row_heading level0 row0\" >Bakery & Breakfast</th>\n",
       "      <td id=\"T_e3ae9_row0_col0\" class=\"data row0 col0\" >33</td>\n",
       "      <td id=\"T_e3ae9_row0_col1\" class=\"data row0 col1\" >33</td>\n",
       "      <td id=\"T_e3ae9_row0_col2\" class=\"data row0 col2\" >32</td>\n",
       "      <td id=\"T_e3ae9_row0_col3\" class=\"data row0 col3\" >33</td>\n",
       "    </tr>\n",
       "    <tr>\n",
       "      <th id=\"T_e3ae9_level0_row1\" class=\"row_heading level0 row1\" >Beauty</th>\n",
       "      <td id=\"T_e3ae9_row1_col0\" class=\"data row1 col0\" >16</td>\n",
       "      <td id=\"T_e3ae9_row1_col1\" class=\"data row1 col1\" >16</td>\n",
       "      <td id=\"T_e3ae9_row1_col2\" class=\"data row1 col2\" >16</td>\n",
       "      <td id=\"T_e3ae9_row1_col3\" class=\"data row1 col3\" >16</td>\n",
       "    </tr>\n",
       "    <tr>\n",
       "      <th id=\"T_e3ae9_level0_row2\" class=\"row_heading level0 row2\" >Beverages</th>\n",
       "      <td id=\"T_e3ae9_row2_col0\" class=\"data row2 col0\" >26</td>\n",
       "      <td id=\"T_e3ae9_row2_col1\" class=\"data row2 col1\" >26</td>\n",
       "      <td id=\"T_e3ae9_row2_col2\" class=\"data row2 col2\" >26</td>\n",
       "      <td id=\"T_e3ae9_row2_col3\" class=\"data row2 col3\" >26</td>\n",
       "    </tr>\n",
       "    <tr>\n",
       "      <th id=\"T_e3ae9_level0_row3\" class=\"row_heading level0 row3\" >Choco, Snacks, Sweets</th>\n",
       "      <td id=\"T_e3ae9_row3_col0\" class=\"data row3 col0\" >24</td>\n",
       "      <td id=\"T_e3ae9_row3_col1\" class=\"data row3 col1\" >24</td>\n",
       "      <td id=\"T_e3ae9_row3_col2\" class=\"data row3 col2\" >24</td>\n",
       "      <td id=\"T_e3ae9_row3_col3\" class=\"data row3 col3\" >24</td>\n",
       "    </tr>\n",
       "    <tr>\n",
       "      <th id=\"T_e3ae9_level0_row4\" class=\"row_heading level0 row4\" >Dairy, Chilled & Eggs</th>\n",
       "      <td id=\"T_e3ae9_row4_col0\" class=\"data row4 col0\" >30</td>\n",
       "      <td id=\"T_e3ae9_row4_col1\" class=\"data row4 col1\" >30</td>\n",
       "      <td id=\"T_e3ae9_row4_col2\" class=\"data row4 col2\" >30</td>\n",
       "      <td id=\"T_e3ae9_row4_col3\" class=\"data row4 col3\" >30</td>\n",
       "    </tr>\n",
       "    <tr>\n",
       "      <th id=\"T_e3ae9_level0_row5\" class=\"row_heading level0 row5\" >Frozen</th>\n",
       "      <td id=\"T_e3ae9_row5_col0\" class=\"data row5 col0\" >35</td>\n",
       "      <td id=\"T_e3ae9_row5_col1\" class=\"data row5 col1\" >35</td>\n",
       "      <td id=\"T_e3ae9_row5_col2\" class=\"data row5 col2\" >35</td>\n",
       "      <td id=\"T_e3ae9_row5_col3\" class=\"data row5 col3\" >35</td>\n",
       "    </tr>\n",
       "    <tr>\n",
       "      <th id=\"T_e3ae9_level0_row6\" class=\"row_heading level0 row6\" >Fruit & Vegetable</th>\n",
       "      <td id=\"T_e3ae9_row6_col0\" class=\"data row6 col0\" >29</td>\n",
       "      <td id=\"T_e3ae9_row6_col1\" class=\"data row6 col1\" >29</td>\n",
       "      <td id=\"T_e3ae9_row6_col2\" class=\"data row6 col2\" >29</td>\n",
       "      <td id=\"T_e3ae9_row6_col3\" class=\"data row6 col3\" >29</td>\n",
       "    </tr>\n",
       "    <tr>\n",
       "      <th id=\"T_e3ae9_level0_row7\" class=\"row_heading level0 row7\" >Health</th>\n",
       "      <td id=\"T_e3ae9_row7_col0\" class=\"data row7 col0\" >21</td>\n",
       "      <td id=\"T_e3ae9_row7_col1\" class=\"data row7 col1\" >22</td>\n",
       "      <td id=\"T_e3ae9_row7_col2\" class=\"data row7 col2\" >22</td>\n",
       "      <td id=\"T_e3ae9_row7_col3\" class=\"data row7 col3\" >22</td>\n",
       "    </tr>\n",
       "    <tr>\n",
       "      <th id=\"T_e3ae9_level0_row8\" class=\"row_heading level0 row8\" >Household</th>\n",
       "      <td id=\"T_e3ae9_row8_col0\" class=\"data row8 col0\" >25</td>\n",
       "      <td id=\"T_e3ae9_row8_col1\" class=\"data row8 col1\" >27</td>\n",
       "      <td id=\"T_e3ae9_row8_col2\" class=\"data row8 col2\" >27</td>\n",
       "      <td id=\"T_e3ae9_row8_col3\" class=\"data row8 col3\" >28</td>\n",
       "    </tr>\n",
       "    <tr>\n",
       "      <th id=\"T_e3ae9_level0_row9\" class=\"row_heading level0 row9\" >Kitchen & Dining</th>\n",
       "      <td id=\"T_e3ae9_row9_col0\" class=\"data row9 col0\" >6</td>\n",
       "      <td id=\"T_e3ae9_row9_col1\" class=\"data row9 col1\" >6</td>\n",
       "      <td id=\"T_e3ae9_row9_col2\" class=\"data row9 col2\" >6</td>\n",
       "      <td id=\"T_e3ae9_row9_col3\" class=\"data row9 col3\" >6</td>\n",
       "    </tr>\n",
       "    <tr>\n",
       "      <th id=\"T_e3ae9_level0_row10\" class=\"row_heading level0 row10\" >Meat & Seafood</th>\n",
       "      <td id=\"T_e3ae9_row10_col0\" class=\"data row10 col0\" >23</td>\n",
       "      <td id=\"T_e3ae9_row10_col1\" class=\"data row10 col1\" >23</td>\n",
       "      <td id=\"T_e3ae9_row10_col2\" class=\"data row10 col2\" >23</td>\n",
       "      <td id=\"T_e3ae9_row10_col3\" class=\"data row10 col3\" >23</td>\n",
       "    </tr>\n",
       "    <tr>\n",
       "      <th id=\"T_e3ae9_level0_row11\" class=\"row_heading level0 row11\" >Mother & Baby</th>\n",
       "      <td id=\"T_e3ae9_row11_col0\" class=\"data row11 col0\" >26</td>\n",
       "      <td id=\"T_e3ae9_row11_col1\" class=\"data row11 col1\" >27</td>\n",
       "      <td id=\"T_e3ae9_row11_col2\" class=\"data row11 col2\" >27</td>\n",
       "      <td id=\"T_e3ae9_row11_col3\" class=\"data row11 col3\" >28</td>\n",
       "    </tr>\n",
       "    <tr>\n",
       "      <th id=\"T_e3ae9_level0_row12\" class=\"row_heading level0 row12\" >Party Supplies</th>\n",
       "      <td id=\"T_e3ae9_row12_col0\" class=\"data row12 col0\" >4</td>\n",
       "      <td id=\"T_e3ae9_row12_col1\" class=\"data row12 col1\" >4</td>\n",
       "      <td id=\"T_e3ae9_row12_col2\" class=\"data row12 col2\" >4</td>\n",
       "      <td id=\"T_e3ae9_row12_col3\" class=\"data row12 col3\" >4</td>\n",
       "    </tr>\n",
       "    <tr>\n",
       "      <th id=\"T_e3ae9_level0_row13\" class=\"row_heading level0 row13\" >Pet Care</th>\n",
       "      <td id=\"T_e3ae9_row13_col0\" class=\"data row13 col0\" >16</td>\n",
       "      <td id=\"T_e3ae9_row13_col1\" class=\"data row13 col1\" >16</td>\n",
       "      <td id=\"T_e3ae9_row13_col2\" class=\"data row13 col2\" >16</td>\n",
       "      <td id=\"T_e3ae9_row13_col3\" class=\"data row13 col3\" >16</td>\n",
       "    </tr>\n",
       "    <tr>\n",
       "      <th id=\"T_e3ae9_level0_row14\" class=\"row_heading level0 row14\" >Rice & Cooking Essentials</th>\n",
       "      <td id=\"T_e3ae9_row14_col0\" class=\"data row14 col0\" >34</td>\n",
       "      <td id=\"T_e3ae9_row14_col1\" class=\"data row14 col1\" >34</td>\n",
       "      <td id=\"T_e3ae9_row14_col2\" class=\"data row14 col2\" >33</td>\n",
       "      <td id=\"T_e3ae9_row14_col3\" class=\"data row14 col3\" >32</td>\n",
       "    </tr>\n",
       "    <tr>\n",
       "      <th id=\"T_e3ae9_level0_row15\" class=\"row_heading level0 row15\" >Wines, Beers & Spirits</th>\n",
       "      <td id=\"T_e3ae9_row15_col0\" class=\"data row15 col0\" >21</td>\n",
       "      <td id=\"T_e3ae9_row15_col1\" class=\"data row15 col1\" >24</td>\n",
       "      <td id=\"T_e3ae9_row15_col2\" class=\"data row15 col2\" >21</td>\n",
       "      <td id=\"T_e3ae9_row15_col3\" class=\"data row15 col3\" >24</td>\n",
       "    </tr>\n",
       "  </tbody>\n",
       "</table>\n"
      ],
      "text/plain": [
       "<pandas.io.formats.style.Styler at 0x2c5c5268588>"
      ]
     },
     "execution_count": 26,
     "metadata": {},
     "output_type": "execute_result"
    }
   ],
   "source": [
    "Brands_pivot = df.pivot_table(index = 'Category',\n",
    "                             columns = 'Country',\n",
    "                             values = 'Brand ',\n",
    "                             aggfunc = 'nunique')\n",
    "Brands_pivot\n",
    "Brands_pivot.style.background_gradient(axis=1)"
   ]
  },
  {
   "cell_type": "markdown",
   "id": "420da4ab",
   "metadata": {},
   "source": [
    "**Висновок:** Суттєвої різниці у кількості різних брендів, представлених у магазинах різних країн, немає.\\\n",
    "Більша кількість брендів категорії Household у Сингапурі, порівняно з Індонезією, може бути пов’язана з видом самого товару, який представляє бренд і обмеженими можливостями його використання (непотрібністю) у цій частині світу. Або це можуть бути місцеві невеликі бренди, які не вигідно постачати у магазини інших країн. Тому подальше дослідження може розширитись на конкретні товари."
   ]
  },
  {
   "cell_type": "markdown",
   "id": "236d553e",
   "metadata": {},
   "source": [
    "6. **Який попит на різні категорії товарів у різних країнах? Чи є відмінності?**"
   ]
  },
  {
   "cell_type": "code",
   "execution_count": 27,
   "id": "6a3968f5",
   "metadata": {
    "ExecuteTime": {
     "end_time": "2023-04-09T20:45:56.276659Z",
     "start_time": "2023-04-09T20:45:56.001745Z"
    },
    "scrolled": false
   },
   "outputs": [
    {
     "data": {
      "image/png": "[encoded data removed]",
      "text/plain": [
       "<Figure size 640x480 with 2 Axes>"
      ]
     },
     "metadata": {},
     "output_type": "display_data"
    }
   ],
   "source": [
    "Goods_pivot = df.pivot_table(index = 'Category',\n",
    "                             columns = 'Country',\n",
    "                             values = 'QTY',\n",
    "                             aggfunc = 'sum')\n",
    "sns.heatmap(Goods_pivot, cmap = 'Blues');"
   ]
  },
  {
   "cell_type": "markdown",
   "id": "54588d5a",
   "metadata": {},
   "source": [
    "**Висновок:** В усіх магазинах найбільше було продано товарів категорії \"Їжа\", а саме Backery & Breakfast, Frozen, Fruit & Vegetable. Значно менше продають одиниць товару категорій Meat & Seafood, Beverages.\\\n",
    "Найменше продано товарів категорії Health. Тут може бути питання до асортименту, представленого у магазинах, і його якості. Або до необхідності проведення реклами саме для цієї категорії."
   ]
  },
  {
   "cell_type": "markdown",
   "id": "2455d8f1",
   "metadata": {},
   "source": [
    "## Типовий покупець"
   ]
  },
  {
   "cell_type": "markdown",
   "id": "d7b50181",
   "metadata": {
    "ExecuteTime": {
     "end_time": "2023-04-09T15:52:17.243304Z",
     "start_time": "2023-04-09T15:52:17.234297Z"
    }
   },
   "source": [
    "**7. Хто генерує більше чеків - чоловіки чи жінки?**"
   ]
  },
  {
   "cell_type": "code",
   "execution_count": 28,
   "id": "7f4a2f82",
   "metadata": {
    "ExecuteTime": {
     "end_time": "2023-04-09T20:47:27.976896Z",
     "start_time": "2023-04-09T20:47:27.824269Z"
    }
   },
   "outputs": [
    {
     "data": {
      "image/png": "[encoded data removed]",
      "text/plain": [
       "<Figure size 640x480 with 1 Axes>"
      ]
     },
     "metadata": {},
     "output_type": "display_data"
    }
   ],
   "source": [
    "(\n",
    "    df\n",
    "    .rename({'Receipt Number':'Receipt_Number'}, axis = 1)\n",
    "    .groupby('Gender').Receipt_Number.nunique()\n",
    "    .plot.pie(autopct='%1.1f%%',\n",
    "              colors = ['#9FCAE6', '#2E5B88'],\n",
    "              wedgeprops = {\"linewidth\": 1, 'edgecolor': 'white'},\n",
    "              legend = True,\n",
    "              ylabel = '',\n",
    "              labeldistance = None)\n",
    ");"
   ]
  },
  {
   "cell_type": "markdown",
   "id": "05843728",
   "metadata": {},
   "source": [
    "**Висновок:** Переважна більшість покупців - жінки (82,7%)."
   ]
  },
  {
   "cell_type": "markdown",
   "id": "5ba42d92",
   "metadata": {
    "ExecuteTime": {
     "end_time": "2023-04-09T15:58:48.371374Z",
     "start_time": "2023-04-09T15:58:48.359375Z"
    }
   },
   "source": [
    "**8. Чи є хоча б одна категорія товарів, яку в більшості купують чоловіки?**"
   ]
  },
  {
   "cell_type": "code",
   "execution_count": 29,
   "id": "a7336d1a",
   "metadata": {
    "ExecuteTime": {
     "end_time": "2023-04-09T20:48:01.986463Z",
     "start_time": "2023-04-09T20:48:01.740071Z"
    }
   },
   "outputs": [
    {
     "data": {
      "image/png": "[encoded data removed]",
      "text/plain": [
       "<Figure size 640x480 with 1 Axes>"
      ]
     },
     "metadata": {},
     "output_type": "display_data"
    }
   ],
   "source": [
    "pd.crosstab(df.Category, df.Gender).plot(kind = 'barh', color = {'#2E5B88', '#9FCAE6'});"
   ]
  },
  {
   "cell_type": "markdown",
   "id": "acf8e45f",
   "metadata": {},
   "source": [
    "**Висновок:** Немає жодної категорії товарів, в якій би переважали покупці-чоловіки."
   ]
  },
  {
   "cell_type": "markdown",
   "id": "ab97dfa9",
   "metadata": {},
   "source": [
    "**9. Який розподіл віку клієнтів?**  "
   ]
  },
  {
   "cell_type": "code",
   "execution_count": 30,
   "id": "bb197ea6",
   "metadata": {
    "ExecuteTime": {
     "end_time": "2023-04-09T20:48:10.709727Z",
     "start_time": "2023-04-09T20:48:10.430619Z"
    }
   },
   "outputs": [
    {
     "data": {
      "image/png": "[encoded data removed]",
      "text/plain": [
       "<Figure size 640x480 with 1 Axes>"
      ]
     },
     "metadata": {},
     "output_type": "display_data"
    }
   ],
   "source": [
    "members = df.drop_duplicates(subset=['Membership ID'])[['Age', 'Gender']]\n",
    "female = members.loc[df['Gender'] == 'Female', 'Age']\n",
    "male = members.loc[df['Gender'] == 'Male', 'Age']\n",
    "plt.hist(female, bins = 30, alpha=0.7, color = \"#9FCAE6\", label = 'female')\n",
    "plt.hist(male, bins = 30, alpha=0.7, color = \"#2E5B88\", label = 'male')\n",
    "plt.legend(title='Gender')\n",
    "plt.xlabel('Age')\n",
    "plt.ylabel('Frequency')\n",
    "plt.title('Age Distribution by Gender');"
   ]
  },
  {
   "cell_type": "markdown",
   "id": "51cab166",
   "metadata": {},
   "source": [
    "**Висновок:** Відносно мало клієнтів у віковій категорії 60+, чоловіків практично немає. Можливо є сенс додати до категорій товару такі, які б зацікавили представників старшого віку або вводити спеціальні акційні пропозиції для таких клієнтів. "
   ]
  },
  {
   "cell_type": "markdown",
   "id": "cef71394",
   "metadata": {},
   "source": [
    "## Трафік покупців на касах"
   ]
  },
  {
   "cell_type": "markdown",
   "id": "e46edf36",
   "metadata": {
    "ExecuteTime": {
     "end_time": "2023-04-09T19:06:53.792113Z",
     "start_time": "2023-04-09T19:06:53.780107Z"
    }
   },
   "source": [
    "**10. В які години дня каси найбільш завантажені?** "
   ]
  },
  {
   "cell_type": "code",
   "execution_count": 31,
   "id": "ef42ebc3",
   "metadata": {
    "ExecuteTime": {
     "end_time": "2023-04-09T20:48:15.552940Z",
     "start_time": "2023-04-09T20:48:15.397148Z"
    },
    "scrolled": false
   },
   "outputs": [
    {
     "data": {
      "image/png": "[encoded data removed]",
      "text/plain": [
       "<Figure size 640x480 with 1 Axes>"
      ]
     },
     "metadata": {},
     "output_type": "display_data"
    }
   ],
   "source": [
    "traffic = df.rename({'Receipt Number':'Receipt_Number'}, axis = 1).groupby('Hour').Receipt_Number.nunique().plot(marker='o');\n",
    "sns.set(rc={'figure.figsize':(11, 4)})\n",
    "plt.ylabel('Count of customers')\n",
    "plt.title('Customers Traffic');"
   ]
  },
  {
   "cell_type": "markdown",
   "id": "dbb6250c",
   "metadata": {},
   "source": [
    "**Висновок:** Найбільший потік клієнтів через каси спостерігається о 13-й і 20-й годині. Це можна врахувати при складанні розкладу роботи касирів."
   ]
  }
 ],
 "metadata": {
  "kernelspec": {
   "display_name": "Python 3 (ipykernel)",
   "language": "python",
   "name": "python3"
  },
  "language_info": {
   "codemirror_mode": {
    "name": "ipython",
    "version": 3
   },
   "file_extension": ".py",
   "mimetype": "text/x-python",
   "name": "python",
   "nbconvert_exporter": "python",
   "pygments_lexer": "ipython3",
   "version": "3.7.5"
  },
  "toc": {
   "base_numbering": 1,
   "nav_menu": {},
   "number_sections": true,
   "sideBar": true,
   "skip_h1_title": false,
   "title_cell": "Table of Contents",
   "title_sidebar": "Contents",
   "toc_cell": false,
   "toc_position": {},
   "toc_section_display": true,
   "toc_window_display": false
  }
 },
 "nbformat": 4,
 "nbformat_minor": 5
}
